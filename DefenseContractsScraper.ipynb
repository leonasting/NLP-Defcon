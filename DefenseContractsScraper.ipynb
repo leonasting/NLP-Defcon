{
  "nbformat": 4,
  "nbformat_minor": 0,
  "metadata": {
    "colab": {
      "provenance": []
    },
    "kernelspec": {
      "name": "python3",
      "display_name": "Python 3"
    },
    "language_info": {
      "name": "python"
    }
  },
  "cells": [
    {
      "cell_type": "code",
      "source": [
        "# importing the libraries\n",
        "import requests\n",
        "from bs4 import BeautifulSoup as soup\n",
        "import pandas as pd\n",
        "import json\n",
        "import sys"
      ],
      "metadata": {
        "id": "c1qWGmlgxLnS"
      },
      "execution_count": null,
      "outputs": []
    },
    {
      "cell_type": "code",
      "source": [
        "dataset = {}\n",
        "\n",
        "# {\"contract_id\":\"pg_\"+str(page_number)+ \"_article_\" + str(article_id) + \"_para_\"+str(counter),\n",
        "#                        \"content\":ind_p.text,\n",
        "#                        \"category\":cat,\n",
        "#                        \"publish_date_ap\":publish_date_ap\n",
        "#                         }"
      ],
      "metadata": {
        "id": "N8t0sgnn_5sz"
      },
      "execution_count": null,
      "outputs": []
    },
    {
      "cell_type": "code",
      "execution_count": null,
      "metadata": {
        "colab": {
          "base_uri": "https://localhost:8080/"
        },
        "id": "VzUoL8uzw7Ch",
        "outputId": "c6347b4c-43b4-4a53-ba79-9d5ce916d62e"
      },
      "outputs": [
        {
          "output_type": "stream",
          "name": "stdout",
          "text": [
            "200\n"
          ]
        }
      ],
      "source": [
        "url = \"https://www.defense.gov/News/Contracts/\"\n",
        "res = requests.get(url)\n",
        "print(res.status_code)"
      ]
    },
    {
      "cell_type": "code",
      "source": [
        "sp = soup(res.text, \"lxml\")"
      ],
      "metadata": {
        "id": "jFbU4xMtxFcD"
      },
      "execution_count": null,
      "outputs": []
    },
    {
      "cell_type": "code",
      "source": [
        "# urls = []\n",
        "# for link in sp.find_all('a'):\n",
        "#     print(link.get('href'))\n",
        "import re\n",
        "\n",
        "sp.find_all(\"listing-titles-only\", {'id': re.compile(r'^http://www.defense.gov/News/Contracts/Contract/Article')})"
      ],
      "metadata": {
        "colab": {
          "base_uri": "https://localhost:8080/"
        },
        "id": "4IucXVUBx0Fl",
        "outputId": "37275497-4734-474e-e036-892a199216bc"
      },
      "execution_count": null,
      "outputs": [
        {
          "output_type": "execute_result",
          "data": {
            "text/plain": [
              "[]"
            ]
          },
          "metadata": {},
          "execution_count": 5
        }
      ]
    },
    {
      "cell_type": "code",
      "source": [
        "abc = res.text\n",
        "links = re.findall(r'(http?://\\S+)', abc)\n",
        "articles = [x for x in links if \"http://www.defense.gov/News/Contracts/Contract/Article\" in x]\n",
        "print(articles)"
      ],
      "metadata": {
        "colab": {
          "base_uri": "https://localhost:8080/"
        },
        "id": "sSl79A2Xxa2J",
        "outputId": "b8efc5a4-7f33-4a7a-d3e9-9a38ca1f70c0"
      },
      "execution_count": null,
      "outputs": [
        {
          "output_type": "stream",
          "name": "stdout",
          "text": [
            "['http://www.defense.gov/News/Contracts/Contract/Article/3190929/\"', 'http://www.defense.gov/News/Contracts/Contract/Article/3190929/\"', 'http://www.defense.gov/News/Contracts/Contract/Article/3190929/\"', 'http://www.defense.gov/News/Contracts/Contract/Article/3189269/\"', 'http://www.defense.gov/News/Contracts/Contract/Article/3189269/\"', 'http://www.defense.gov/News/Contracts/Contract/Article/3189269/\"', 'http://www.defense.gov/News/Contracts/Contract/Article/3187615/\"', 'http://www.defense.gov/News/Contracts/Contract/Article/3187615/\"', 'http://www.defense.gov/News/Contracts/Contract/Article/3187615/\"', 'http://www.defense.gov/News/Contracts/Contract/Article/3186145/\"', 'http://www.defense.gov/News/Contracts/Contract/Article/3186145/\"', 'http://www.defense.gov/News/Contracts/Contract/Article/3186145/\"', 'http://www.defense.gov/News/Contracts/Contract/Article/3184727/\"', 'http://www.defense.gov/News/Contracts/Contract/Article/3184727/\"', 'http://www.defense.gov/News/Contracts/Contract/Article/3184727/\"', 'http://www.defense.gov/News/Contracts/Contract/Article/3183579/\"', 'http://www.defense.gov/News/Contracts/Contract/Article/3183579/\"', 'http://www.defense.gov/News/Contracts/Contract/Article/3183579/\"', 'http://www.defense.gov/News/Contracts/Contract/Article/3182145/\"', 'http://www.defense.gov/News/Contracts/Contract/Article/3182145/\"', 'http://www.defense.gov/News/Contracts/Contract/Article/3182145/\"', 'http://www.defense.gov/News/Contracts/Contract/Article/3181029/\"', 'http://www.defense.gov/News/Contracts/Contract/Article/3181029/\"', 'http://www.defense.gov/News/Contracts/Contract/Article/3181029/\"', 'http://www.defense.gov/News/Contracts/Contract/Article/3179685/\"', 'http://www.defense.gov/News/Contracts/Contract/Article/3179685/\"', 'http://www.defense.gov/News/Contracts/Contract/Article/3179685/\"', 'http://www.defense.gov/News/Contracts/Contract/Article/3178203/\"', 'http://www.defense.gov/News/Contracts/Contract/Article/3178203/\"', 'http://www.defense.gov/News/Contracts/Contract/Article/3178203/\"']\n"
          ]
        }
      ]
    },
    {
      "cell_type": "code",
      "source": [
        "# strong\n",
        "articles = set(articles)\n",
        "for a in articles:\n",
        "  print(a)\n",
        "  res = requests.get(a)\n",
        "  sp = soup(res.text, \"lxml\")\n",
        "  # txt = sp.find(\"div\", {\"class\" : \"body\"}).text\n",
        "  # print(txt)\n",
        "  \n",
        "  for p in sp.find(\"div\",{\"class\" : \"body\"}).findAll(\"p\"):\n",
        "    if p.find(\"strong\"):\n",
        "      print(\"title\", p.text)\n",
        "    else:\n",
        "      print (p.text)\n",
        "  print(\"------------------\")\n"
      ],
      "metadata": {
        "colab": {
          "base_uri": "https://localhost:8080/"
        },
        "id": "yL_UtVpH2Dit",
        "outputId": "9734a489-0e0f-4ae5-bdcc-64ee06a58fec"
      },
      "execution_count": null,
      "outputs": [
        {
          "output_type": "stream",
          "name": "stdout",
          "text": [
            "http://www.defense.gov/News/Contracts/Contract/Article/3184727/\"\n",
            "title NAVY\n",
            "AAR Government Services Inc., Wood Dale, Illinois, is awarded an $114,476,783 modification (P00020) to a previously awarded, firm-fixed-price, time-and-materials, indefinite-delivery/indefinite-quantity contract (N0001918D0111). This modification exercises an option to provide P-8A Poseidon aircraft depot scheduled and unscheduled maintenance, depot in-service repair/planner and estimator requirements, technical directive incorporation, airframe modifications, aircraft on ground support, and removal and replacement of engines in support of the Navy, the government of Australia, and Foreign Military Sales customers. Work will be performed in Indianapolis, Indiana, and is expected to be completed in October 2023. No funds will be obligated at the time of award; funds will be obligated on individual orders as they are issued. The Naval Air Systems Command, Patuxent River, Maryland, is the contracting activity.\n",
            "The Boeing Co., Seattle, Washington, is awarded an $84,526,041 modification (P00009) to a previously awarded, firm-fixed-price, time-and-materials, indefinite-delivery/indefinite-quantity contract (N0001918D0113). This modification exercises an option to provide P-8A Poseidon CFM56-7B27A/3 and CFM56-7B27AE engine depot-level maintenance and repair in support of the Navy, the government of Australia, and Foreign Military Sales customers. Work will be performed in Atlanta, Georgia (97%); and Seattle, Washington (3%), and is expected to be completed in October 2023. No funds will be obligated at the time of award; funds will be obligated on individual orders as they are issued. The Naval Air Systems Command, Patuxent River, Maryland, is the contracting activity.\n",
            "CORRECTION: The Sept. 23, 2022, announcement of a contract award to Fincantieri Marinette Marine, Marinette, Wisconsin (N00024-20-C-2300), for procurement of long-lead time material for the land based engineering site for the Constellation-class frigate should have stated that work will be performed in Philadelphia, Pennsylvania, not Marinette, Wisconsin.\n",
            "------------------\n",
            "http://www.defense.gov/News/Contracts/Contract/Article/3190929/\"\n",
            "title NAVY\n",
            "Pole/Zero Acquisition Inc., West Chester, Ohio, is awarded a $53,544,462 firm-fixed-price, indefinite-delivery/indefinite-quantity contract. This contract procures up to 346 antenna interface units and communications trays, to include 190 for the Navy, 132 for Foreign Military Sales (FMS) customers and 24 for the government of Australia, as well as required technical data, assemblies, subassemblies, and spares in support of the P-8A Poseidon communications suite. Work will be performed in West Chester, Ohio, and is expected to be completed in October 2028. No funds will be obligated at the time of award; funds will be obligated on individual orders as they are issued. This contract was not competitively procured pursuant to Defense Federal Acquisition Regulations 6.302-1. The Naval Air Warfare Center Aircraft Division, Lakehurst, New Jersey, is the contracting activity (N6833523D0001).\n",
            "\n",
            "*Small business\n",
            "------------------\n",
            "http://www.defense.gov/News/Contracts/Contract/Article/3186145/\"\n",
            "title AIR FORCE\n",
            "L3Harris Technologies, Amityville, New York, has been awarded a $60,742,580 firm-fixed-price, indefinite-delivery/indefinite-quantity contract for Bomb Rack Unit 57B replacement parts in support of the F-16 weapon system. Work will be performed in Amityville, New York, and is expected to be completed by Oct. 4, 2027. This award is the result of a sole source acquisition and is 100 percent Foreign Military Sales. Air Force Life Cycle Management Center, Robins Air Force Base, Georgia, is the contracting activity (FA8520-22-D-0004).\n",
            "title NAVY\n",
            "Alliant Techsystems Operations LLC, a wholly owned subsidiary of Northrop Grumman Defense Systems Inc., Northridge, California, is awarded a $35,587,641 modification (P00008) to a previously awarded firm-fixed-price contract (N0001921C0044). This modification exercises an option to procure full rate production Lot 11 of the AGM-88E2 Advanced Anti-Radiation Guided Missile (AARGM), to include the production and delivery of AGM-88E2 AARGM All Up Round (AUR) tactical missiles; AGM-88E AARGM Captive Air Training Missiles (CATMs); AARGM guidance sections; AARGM control sections; High-Speed Anti-Radiation Missiles (HARM) rocket motors; HARM warheads; HARM control sections; HARM G-Code AURs; HARM G-Code CATMs; and M-Code Global Positioning System receivers, as well as associated test equipment, containers, spare and repair parts, software, and logistical and program support for the government of Australia. Work will be performed in Northridge, California (60%); and Ridgecrest, California (40%), and is expected to be completed in March 2025. Foreign Military Sales customer funds in the amount of $35,587,641 will be obligated at the time of award, none of which will expire at the end of the current fiscal year. The Naval Air Systems Command, Patuxent River, Maryland, is the contracting activity.\n",
            "Continental Maritime San Diego, San Diego, California, is awarded a $14,963,483 firm-fixed-price undefinitized contract action (UCA) for the USS Portland (LPD-27) fiscal 2023 selected restricted availability. This contract contains options which, if exercised, will bring the cumulative value of the contract to $38,253,995. The UCA will be definitized on or about Jan. 9, 2023. This effort is to accomplish maintenance, repair, and modernization of the USS Portland. Work will be performed in San Diego, California, and is expected to be completed by October 2023. Fiscal 2023 other procurement (Navy) funds in the amount of $14,963,483 will be obligated at time of award and will not expire at the end of the current fiscal year. This contract was competitively procured using full and open competition with only one offer received via the System for Award Management website. The Southwest Regional Maintenance Center, San Diego, California, is the contracting activity (N55236-23-C-0001).\n",
            "CCI Group LLC,* Shalimar, Florida, is awarded a $12,285,857 firm-fixed-price modification to previously awarded task order N6945021F0767 under previously awarded, multiple award construction contract N69450-19-D-0917 for repairs to multiple assets on the utility transmission and distribution electrical grid at Naval Submarine Base, Kings Bay, Georgia. This award brings the total cumulative value of the contract to $12,570,488. Work will be performed in St. Mary's, Georgia, and is expected to be completed by January 2025. Fiscal 2019 and fiscal 2020 military construction (Navy) funds in the amount of $12,285,857 will be obligated at time of award, and $6,207,936 will expire at the end of the current fiscal year. The Naval Facilities Engineering Systems Command Southeast, Jacksonville, Florida, is the contracting activity.\n",
            "title DEFENSE LOGISTICS AGENCY\n",
            "UPDATE: Marathon Medical, Aurora, Colorado (SPE2DE-23-D-0002, $37,000,000), has been added as an awardee to the multiple award contract for laboratory equipment, accessories and consumables for the Defense Logistics Agency Electronic Catalog, issued against solicitation SPE2DE-17-R0001 and awarded Feb. 15, 2018. \n",
            "\n",
            "*Small business\n",
            "------------------\n",
            "http://www.defense.gov/News/Contracts/Contract/Article/3187615/\"\n",
            "title ARMY\n",
            "Enlighten IT Consulting LLC, Linthicum Heights, Maryland, was awarded a $29,939,470 firm-fixed-price contract for contractor support of the Cyberspace Analytics program for Program Executive Office, Enterprise Information Systems. Bids were solicited via the internet with one received. Work will be performed in Linthicum Heights, Maryland, with an estimated completion date of Oct. 13, 2023. Fiscal 2022 research, development, test and evaluation, Army funds in the amount of $1,000,000 were obligated at the time of the award. U.S. Army Contracting Command, Rock Island Arsenal, Illinois, is the contracting activity (W519TC-23-C-0001).\n",
            "Allied Technologies Group Inc.,* Huntsville, Alabama, was awarded a $9,146,194 hybrid (firm-fixed-price and time-and-materials) contract for logistic support services for the Utility Helicopters Project Office. Bids were solicited via the internet with four received. Work will be performed in Huntsville, Alabama, with an estimated completion date of Oct. 21, 2027. Fiscal 2022 aircraft procurement, Army funds in the amount of $9,146,194 were obligated at the time of the award. U.S. Army Contracting Command, Redstone Arsenal, Alabama, is the contracting activity (W31P4Q-23-F-E001).\n",
            "title NAVY\n",
            "Northrop Grumman Systems Corp., Melbourne, Florida, is awarded a $12,696,010 modification (P00010) to a cost-plus-fixed-fee order (N0001920F0088) against a previously issued basic ordering agreement (N0001920G0005). This modification adds scope to provide non-recurring engineering for requirements development, systems engineering technical reviews, certification planning, initial requirements change requests, procurement strategy source selection packages, performance based navigation certification plan, initial system safety, cyber, program protection and exportability analysis, integrated master schedule, and other associated technical deliverables in support of the E-2D Advanced Hawkeye cockpit redesign. Work will be performed in Melbourne, Florida (99.76%); and Patuxent River, Maryland (0.24%), and is expected to be completed in June 2023. Fiscal 2022 research, development, test and evaluation funds in the amount of $12,600,000 will be obligated at the time of award, all of which will expire at the end of the current fiscal year. The Naval Air Systems Command, Patuxent River, Maryland, is the contracting activity.\n",
            "Schuyler Line Navigation Co., LLC, Annapolis, Maryland (N3220518C3508), is awarded a $10,103,500 option (P00027) for the fixed-price portion of a previously awarded firm-fixed-price contract with reimbursable elements to exercise a one-year option period for the operation and maintenance of the tanker SLNC Goodwill to provide transportation of clean petroleum products in support of the Department of Defense Logistics Agency Energy. This contract includes a one-year firm period of the performance, three one-year option periods, and one eleven-month option period, which if exercised would bring the cumulative value of this contract to $60,816,000. Work will be performed worldwide and is expected to be completed, if all options are exercised, by Sept. 13, 2023. Fiscal 2023 working capital (Transportation) funds in the amount of $10,103,500 are obligated, and will expire at the end of the fiscal year. This procurement was released under full and open competition with an unlimited number of companies solicited via the System for Award Management website and five offers were received. The Navy's Military Sealift Command, Norfolk, Virginia, is the contracting activity.\n",
            "title AIR FORCE\n",
            "CORRECTION: A contract announced Sept. 30, 2022, to Lockheed Martin Corp., Orlando, Florida (FA8621-22-F-0040 PZ0001), for procurement of the C-130J Weapons System Trainer, was actually awarded Oct. 6, 2022.\n",
            "\n",
            "*Small business\n",
            "------------------\n",
            "http://www.defense.gov/News/Contracts/Contract/Article/3179685/\"\n",
            "title Army\n",
            "Northrop Grumman Systems Corporation, Herndon, Virginia, was awarded a $69,818,701 modification (P00039) to contract W911S0-18-C-0004 to provide mission support for the planning, coordination and execution of exercises conducted by the U.S. Army's Mission Command Training Program. Work will be performed in Fort Leavenworth, Kansas, with an estimated completion date of Oct. 14, 2023. Fiscal 2023 operation and maintenance, Army funds in the amount of $69,818,701 were obligated at the time of the award. U.S. Army Field Directorate Office, Fort Eustis, Virginia, is the contracting activity.\n",
            " \n",
            "Nan Inc., Honolulu, Hawaii, was awarded a $44,698,307 firm-fixed-price contract to construct a child development center building. Bids were solicited via the internet with four received. Work will be performed in Schofield Barracks, Hawaii, with an estimated completion date of March 27, 2026. Fiscal 2023 military construction, Army funds in the amount of $44,698,307 were obligated at the time of the award. U.S. Army Corps of Engineers, Honolulu, Hawaii, is the contracting activity (W9128A-23-C-0001).\n",
            "title Navy\n",
            "Lockheed Martin Corp., Fort Worth, Texas is awarded a $35,834,613 firm-fixed-price modification (P00005) to an order (N0001921F0398) against a previously issued basic ordering agreement (N0001919G0008). This modification adds scope and increases the contract ceiling for F-35 Lightning II Lot 15-16 Batch 2 Ancillary Mission Equipment for the U.S. Navy, U.S. Marine Corps, U.S. Air Force, non-U.S. Department of Defense (DoD) partners, and Foreign Military Sales (FMS) customers. Work will be performed in Fort Worth, Texas, and is expected to be completed in December 2025. Fiscal 2022 aircraft procurement (Air Force) funds in the amount of $9,746,938, fiscal 2022 aircraft procurement (Navy) funds in the amount of $ 5,663,940, fiscal 2021 aircraft procurement (Navy) funds in the amount of $3,496,750, FMS customer funds in the amount of $4,809,862, and non-U.S. DoD participant funds in the amount of $12,117,124 will be obligated at the time of award, none of which will expire at the end of the current fiscal year. The Naval Air Systems Command, Patuxent River, Maryland, is the contracting activity.\n",
            "Sikorsky Aircraft Corp., a Lockheed Martin Co., Stratford, Connecticut, is awarded a $26,985,285 cost-plus-fixed-fee modification (P00010) to an order (N0001919F2972) against a previously issued basic ordering agreement (N0001919G0029). This modification adds scope for the initial and final technical directive to install the data transfer unit and Defensive Electronic Countermeasure System Replacement Phase III ARC-210 components into the CH-53K aircraft, support flight planning and testing of the components and supportability products for the U.S. Navy. Work will be performed in Stratford, Connecticut (37%); Patuxent River, Maryland (28%); Cedar Rapids, Iowa (15%); Bohemia, New York (11%); Fort Worth, Texas (5%); West Palm Beach, Florida (2%); and Owego, New York (2%), and is expected to be completed in April 2025. Fiscal 2022 aircraft procurement (Navy) funds in the amount of $26,985,285 will be obligated at the time of award, none of which will expire at the end of the current fiscal year. The Naval Air Systems Command, Patuxent River, Maryland, is the contracting activity.\n",
            "Lockheed Martin Aeronautics Co., Fort Worth, Texas, is awarded a $15,634,052 firm-fixed-price modification (P00086) to a previously awarded contract (N0001917C0001). This modification adds scope to provide non-recurring engineering in support of the F-35 Joint Program Office complying with the Item Unique Identification clause, Defense Federal Acquisition Regulation Supplement 252.211-7003, for delivered items of which the government’s unit acquisition cost is $5,000 or more, barring exemptions. Work will be performed Samlesbury, United Kingdom and is expected to be completed in August 2024. Fiscal 2020 aircraft procurement (Air Force) funds in the amount of $7,817,026 and fiscal 2020 aircraft procurement (Navy) funds in the amount of $7,817,026 will be obligated at time of award, all of which will expire at the end of the current fiscal year. The Naval Air Systems Command, Patuxent River, Maryland, is the contracting activity.\n",
            "title Defense Logistics Agency\n",
            "Science Applications International Corp., doing business as SAIC, Fairfield, New Jersey, has been awarded an estimated $19,475,130 fixed-price with economic-price-adjustment, indefinite-quantity contract for integrated product support for line-side delivery of bench stock items for the maintenance/production lines at Anniston Army Depot, Alabama. This was a competitive acquisition with two responses received. This is a three-year base contract with two two-year option periods, and six 30-day extensions. Location of performance is Alabama, with a Nov. 13, 2025, performance completion date. Using military service is Army. Type of appropriation is fiscal 2022 through 2025 defense working capital funds. The contracting activity is the Defense Logistics Agency Land and Maritime, Columbus, Ohio (SPE7LX-23-D-0004).\n",
            "------------------\n",
            "http://www.defense.gov/News/Contracts/Contract/Article/3181029/\"\n",
            "title DEFENSE HEALTH AGENCY \n",
            "Washington Business Dynamics, LLC, of Washington, District of Columbia, was awarded a $66,906,179 firm fixed price Blanket Purchase Agreement (BPA) (HT0015-23-A-0001) under the General Services Administration multiple award schedule 541611 (Professional Services - Business Administrative Services). This BPA supports fiscal-year financial planning, budget reporting, budget analysis, execution and out-year resourcing to include development and preparation of necessary documentation for the program budget decisions, the future years defense program, program objective memorandums, audits and budget estimate submissions, risk management and internal control/performance metrics, contracts database support, cost estimating, evaluation support, technical writing support, and administrative support for the Defense Health Agency Deputy Assistant Director for Information Operations, Portfolio and Resource Management Division. This BPA will support DHA's finance, acquisition, and business efforts across the Military Health System. The solicitation provided a fair opportunity with nine offers received. This is a one-year base BPA with a five-year ordering period. The base year will be funded with fiscal year 2023 operation and maintenance funds in the amount of $11,407,843 subject to the availability of funds. The place of performance will be Washington, District of Columbia. The Defense Health Agency, Enterprise Medical Services Contracting Division, San Antonio, Texas, is the contracting activity.\n",
            "title DEFENSE ADVANCED RESEARCH PROJECTS AGENCY\n",
            "Georgia Tech Research Corporation, Atlanta, Georgia, was awarded a $22,704,951 cost-reimbursement contract for a research project under the Signature Management using Operational Knowledge and Environments (SMOKE) program. This 48-month contract includes one option, which if exercised, would bring the cumulative value of the contract to $24,704,951. The SMOKE program will develop data-driven tools to automate the planning and execution of threat-emulated cyber infrastructure needed for network security assessments. Work will be performed in Atlanta, Georgia (95%), and Athens, Georgia (5%), and if all options are exercised, work will be completed by October 2026. Fiscal 2022 research, development, test, and evaluation funds in the amount of $1,115,548 are being obligated at time of award and will not expire at the end of the current fiscal year. This contract was a competitive acquisition under an open broad agency announcement and 26 offers were received. The Defense Advanced Research Projects Agency, Arlington, Virginia, is the contracting activity (HR001123C0035).\n",
            "title MISSILE DEFENSE AGENCY\n",
            "Raytheon Company, San Diego, California is being awarded a contract modification in the amount of $13,392,678 to previously awarded indefinite-delivery/indefinite-quantity (ID/IQ) HQ0147-19-D-0013. The contract value is increased from $12,008,811 to $25,401,489. Raytheon Company is the Original Equipment Manufacturer (OEM) for the Multi-Spectral Targeting System (MTS) class of sensors. Under this contract the contractor will continue provide engineering services in support of life-cycle sustainment of the Government-owned Raytheon MTS class sensors and obtain the technical capability and necessary resources to operate, maintain, repair and upgrade the units. Anticipated engineering services include spare parts support, platform integration support, test equipment support and fielding, and software / firmware updates. The work will be performed in San Diego, California. The ordering period of the ID/IQ remains unchanged as January 11, 2019 to January 10, 2024. No funds are being obligated with this award. One offer was solicited and one offer was received. The statutory authority for this contract action is 10 U.S.C. § 2304(c)(1) as implemented by FAR 6.302-1, Only One Responsible Source and No Other Supplies or Services Will Satisfy the Agency Requirements. The Missile Defense Agency, Redstone Arsenal, Alabama, is the contracting activity.\n",
            "title NAVY\n",
            "Clayton International, Inc.,* Peachtree City, Georgia, is awarded a $7,905,026 firm-fixed-price, cost reimbursable contract to provide depot level maintenance services for one VH-3A Helicopter for the Government of Egypt. Work will be performed in Peachtree City, Georgia and is expected to be completed in June 2024. Foreign military sales customer funds in the amount of $7,905,026 will be obligated at the time of award, none of which will expire at the end of the current fiscal year. This contract was not competitively procured pursuant to Defense Federal Acquisition Regulation 206.302-4. The Naval Air Warfare Aircraft Division, Patuxent River, Maryland, is the contracting activity (N0042123C0003).\n",
            "*Small business\n",
            "------------------\n",
            "http://www.defense.gov/News/Contracts/Contract/Article/3189269/\"\n",
            "title DEFENSE LOGISTICS AGENCY\n",
            "Food Services, Inc.,* Mount Vernon, Washington, has been awarded a maximum $255,000,000 fixed-price with economic-price-adjustment, indefinite-delivery/indefinite-quantity contract for full-line food distribution. This was a competitive acquisition with three responses received. This is a five-year contract with no option periods. Location of performance is Okinawa, Japan, with an Oct. 13, 2027, ordering period end date. Using customers are Army, Navy, Air Force, Marine Corps, Coast Guard, Morale Welfare and Recreation and other federal civilian agencies. Type of appropriation is fiscal 2023 through 2028 defense working capital funds. The contracting agency is the Defense Logistics Agency Troop Support, Philadelphia, Pennsylvania (SPE300-23-D4111).\n",
            "Oshkosh Defense LLC, Oshkosh, Wisconsin, has been awarded an estimated $44,485,826 firm-fixed-price, indefinite-quantity contract for various heavy truck weapon systems replacement parts. This was a sole-source acquisition using justification 10 U.S. Code 2304 (c)(1), as stated in Federal Acquisition Regulation 6.302-1. This is a three-year base contract with two one-year option periods. The performance completion date is Oct. 13, 2025. Using military services are Army, Navy, Air Force and Marine Corps. Type of appropriation is fiscal 2022 through 2025 defense working capital funds. The contracting activity is the Defense Logistics Agency Land and Maritime, Columbus, Ohio (SPE7LX-23-D-0005).\n",
            "title AIR FORCE\n",
            "Riverside Research Institute, Arlington, Virginia, has been awarded a $49,468,966 cost-plus-fixed-fee contract for the Microelectronics and Embedded System Assurance (MESA) II research and development effort. Work will be performed at Wright-Patterson Air Force Base, Ohio; and Arlington, Virginia, and is expected to be completed by Jan. 14, 2028. Fiscal 2022 research and development funds in the amount of $650,941 are being obligated at the time of award. Air Force Research Laboratory, Wright-Patterson AFB, Ohio, is the contracting activity (FA8650-23-C-1001).\n",
            "CORRECTION: The contract announced Oct. 12, 2022, to L3Harris Technologies, Amityville, New York (FA8520-22-D-0004), for Bomb Rack Unit 57B replacement parts, was actually awarded Oct. 14, 2022, and the contract number is FA8520-23-D-0001. Additionally, the expected work completion date was announced as Oct. 4, 2027, but is expected to be completed by Oct. 14, 2027. \n",
            "title NAVY\n",
            "General Dynamics Electric Boat Corp., Groton, Connecticut, is awarded an $18,106,451 cost-plus-fixed-fee contract to provide U.S. Trident II Strategic Weapon System Kings Bay Trident Trainer Facility kit and engineering support services.  Work will be performed at Groton, Connecticut (66%); Kings Bay, Georgia (25%); and Cape Canaveral, Florida (9%). Work is expected to be completed on Dec. 31, 2025. Fiscal 2022 other procurement (Navy) funds in the amount of $11,888,110; and fiscal 2022 ship building and conversion (Navy) funds in the amount of $1,871,779 will be obligated at time of award. No funds will expire at the end of the current fiscal year.  This contract is being awarded as a sole-source acquisition in accordance with 10 U.S. Code 2304(c)(1). Strategic Systems Programs, Washington, D.C., is the contracting activity (N0003023C6004).\n",
            "\n",
            "*Small business\n",
            "------------------\n",
            "http://www.defense.gov/News/Contracts/Contract/Article/3178203/\"\n",
            "title Navy\n",
            "Lockheed Martin Corp., Manassas, Virginia (N0001922D0017 P00001); Undersea Sensor Systems Inc., Columbia City, Indiana (N0001922D0018 P00001); and Sparton De Leon Springs, LLC. De Leon Springs, Florida (N0001922D0019 P00001) are awarded an estimated aggregate ceiling of $5,100,000,000 for firm-fixed-price modifications to a previously awarded indefinite-delivery/indefinite-quantity contract. These modifications exercise options for the production and delivery of the following sonobuoy capability categories: bathythermograph, passive, active/passive combo, multistatic source, multistatic receiver, and special mission in support of annual training, peacetime operations and testing expenditures, as well as, to maintain sufficient inventory to support the execution of Major Combat Operations based on Naval Munitions Requirements Process. The companies have an opportunity to compete for individual orders.  Lockheed Martin Corp. will perform work in Manassas, Virginia; Undersea Sensor Systems Inc. will perform work in Columbia City, Indiana, while Sparton De Leon Springs, LLC will perform work in De Leon Springs, Florida, and is expected to be completed in September 2027. No funds will be obligated at the time of award. Funds will be obligated on individual orders as they are issued. The Naval Air Systems Command, Patuxent River, Maryland, is the contracting activity.\n",
            "General Dynamics Electric Boat Corp., Groton, Connecticut, is awarded a $532,921,125 cost-plus-fixed-fee modification to previously awarded contract (N00024-20-C-2120) for Lead Yard Support and Development Studies and Design efforts related to Virginia-class submarines. This contract modification includes options which, if exercised, would bring the cumulative value of the modification to $813,720,300. Work will be performed in Groton, Connecticut (99%) and Newport News, Virginia (1%), and is expected to be completed by October 2023. Fiscal 2022 research, development, test, and evaluation (Navy) $96,759,178 (89%); fiscal 2022 shipbuilding and conversion (Navy) $8,449,061 (7%); fiscal 2019 shipbuilding and conversion (Navy) $2,001,990 (2%); fiscal 2020 shipbuilding and conversion (Navy) $1,223,913 (1%); fiscal 2017 shipbuilding and conversion (Navy) $720,000 (1%); and fiscal 2021 shipbuilding and conversion (Navy) $70,000 (1%), will be obligated at time of award, of which, $96,759,178 will expire at the end of the current fiscal year. The Naval Sea Systems Command, Washington, District of Columbia, is the contracting activity. \n",
            "Jacobs Technology Inc., Fort Walton Beach, Florida, is awarded a $36,542,735 cost reimbursement, cost-plus-fixed-fee contract action for site activation, test and evaluation, and sustainment in support of the Underwater Launch Test Capability Program. This contract includes options which, if exercised, would bring the cumulative value of this contract to $99,826,802. Work will be performed in Crane, Indiana (90%); Ridgecrest, California (5%); Morristown, New Jersey (5%), and is expected to be completed by September 2024. If all options are exercised, work will continue through October 2027. Fiscal 2022 research, development, test, and evaluation (Navy) funding in the amount of $1,000,000 will be obligated at the time of award and will expire at the end of the current fiscal year. This contract was not competitively procured pursuant to U.S. Code 2304(c)(1) — only one responsible source and no other supplies or services will satisfy agency requirements. Naval Surface Warfare Center, Crane Division, Crane, Indiana, is the contract activity (N0016423CJR84).\n",
            "Epsilon Systems Solutions, Inc.,* San Diego, California, was awarded a $22,016,373 cost-plus-fixed fee and cost reimbursement contract modification to a previously awarded contract (N55236-20-C-0003) to exercise options to provide a full range of technical and repair support services for the Southwest Regional Maintenance Center’s Product Family divisions. Work will be performed in San Diego, California, and is expected to be completed by September 2023. Fiscal 2022 operations and maintenance (Navy) funding in the amount of $1,110,507 was obligated at the time of award and will expire at the end of the current fiscal year. The Southwest Regional Maintenance Center, San Diego, California, is the contracting activity. Awarded September 29, 2022.\n",
            "Ocean Ships, Inc. of Houston, Texas, (N3220517C3100) is awarded an $8,172,595 modification under a previously awarded firm fixed-price contract to fund the six-month option period for the operation and maintenance of six Oceanographic Survey ships (T-AGS) and Navigation Test Support ship USNS Waters (T-AGS 45). The previously awarded contract includes a 12-month firm period of performance, four 12-month option periods, and one six-month option period, which, if exercised, would bring the total value of this contract to $244,785,148. Work commenced at sea June 1, 2018 and is expected to be completed, if all options are exercised, by March 31, 2023. Fiscal 2023 operations and maintenance (Navy) funds in the amount of $8,172,595 will be obligated for this fiscal year, and will expire at the end of the fiscal year. The contract was competitively procured with proposals solicited via the Federal Business Opportunities website and five offers were received. The U.S. Navy’s Military Sealift Command, headquartered in Norfolk, Virginia, is the contracting activity (N3220519C3512).\n",
            "title Defense Health Agency\n",
            "Deloitte Consulting LLP (Deloitte-IBA Team), Falls Church, Virginia was awarded a one-year contract (HT001122F4011) as part of a Blanket Purchase Master Agreement which represents one (1) of two (2) BPAs awarded under a Contractor Team Arrangement (CTA) represented by both, Deloitte and Irving Burton Associates (IBA), working together to perform the requirements for Solution Delivery Division (SDD) Program Management Support. These BPAs perform a variety of functions, such as, but not limited to: configuration management, requirements management, assistance with acquisition planning processes and services, financial service support, deployment activities and other business, technical and administration activities, all of which support SDD product-lines. The BPA Master Dollar Limit is: $134,150,836 with a BPA call limit of $40,000,000. Both agreements, and the subsequent calls for each, represent the single award to the CTA. Option period three will be funded with fiscal year 2023 operation and maintenance funding in the amount of $31,663,981. The Defense Health Agency, Professional Services Contracting Division, Falls Church, Virginia, is the contracting activity. (Awarded Sept. 30, 2022.)\n",
            "Irving Burton Associates, Inc., Falls Church, Virginia was awarded a one-year contract (HT001122F4012) as part of a Blanket Purchase Master Agreement which represents one (1) of two (2) BPAs awarded under a Contractor Team Arrangement (CTA) represented by both Irving Burton Associates, Inc. (IBA) and Deloitte Consulting LLP (Deloitte-IBA Team) working together to perform the requirements for Solution Delivery Division (SDD) Program Management Support. This entails performing a variety of functions, such as, but not limited to: configuration management, requirements management, assist with acquisition planning processes and services, financial services, deployment activities and other business, technical and administration activities, all supporting SDD product-lines. The BPA Master Dollar Limit is: $101,234,731 with a BPA call limit of $40,000,000. Both agreements, and the subsequent calls for each, represent the single award to the CTA. Option period three will be funded with fiscal year 2023 operation and maintenance funding in the amount of $26,627,089. The Defense Health Agency, Professional Services Contracting Division, Falls Church, Virginia, is the contracting activity.\n",
            "Kako'o Services LLC, Honolulu, Hawaii, was awarded an indefinite delivery/indefinite quantity single award contract (HT9410-22-D-5018) with a maximum value of $25,000,000. This contract provides for dental services outside the continental United States in support of military treatment facilities. This effort has a 60-month ordering period from Sept. 29, 2022 through Sept. 28, 2027. Work location is task order dependent but will primarily occur in Okinawa, Japan. Task orders will be funded by operation and maintenance funds. This contract was awarded as an 8(a) sole source contract under the small business 8(a) program. The contracting activity is the Defense Health Agency, Western Markets Contracting Division, San Diego, California. (Awarded Sept. 30, 2022)\n",
            "title U.S. Special Operations Command\n",
            "Lightforce USA, Inc., Orofino, Idaho, was awarded a Indefinite Delivery/ Indefinite Quantity (IDIQ) order (H-9240322-D-0009) with a value of $17,674,500 for Squad-Variable Powered Scopes (S-VPS) and Precision-Variable Power Scopes (P-VPS); both standard and long range. Along with these scopes, USSOCOM will have the ability to procure parts. This contract will fulfill the full operational capability (FOC) requirements for all U.S. Special Operations Command (USSOCOM) components. Fiscal year 2022 operations and maintenance funds in the amount of $1,085,462.00 were obligated at time of the award. The contract was awarded in accordance with 10 USC 2304 (c)(1) as implemented by FAR 6.302-1 Only one responsible source.\n",
            "title Air Force\n",
            "Thomas Instrument, Inc., Brookshire, Texas, has been awarded a $13,590,419 requirements-type contract for depot-level overhaul services of the C-5 dual-powered winch, National Stock Number 1680-01-593-5680/Part Number 200413780-20. Work will be performed at Brookshire, Texas, and is expected to be completed by Sept. 29, 2027. This award is the result of a non-competitive acquisition. Fiscal 2022 defense working capital funds are being used. The Air Force Sustainment Center, Robins Air Force Base, Georgia, is the contracting activity (FA8538-22-D-0009).\n",
            "Actualized Business Solutions, Inc., California, Maryland, has been awarded an $18,200,500, firm-fixed-price, indefinite-delivery/indefinite-quantity contract to support curriculum development and execution for the United States Air Force Test Pilot School. Work will be performed in California, Maryland, and is expected to be completed by Sept. 29, 2027. This contract was a competitive acquisition and one offer was received. Fiscal 2022 research and development funds in the amount of $1,841,595 are being obligated at time of award. Air Force Test Center, Edwards Air Force Base, California, is the contracting activity (FA930422D5004).\n",
            "The MITRE Corp., Bedford, Massachusetts, has been awarded a $486,106,810 cost-reimbursement-option contract for support to the Air Force from MITRE as the administrator of the National Security Engineering Center Federally-Funded Research and Development Center. Work will be performed in Bedford, Massachusetts, McLean, Virginia, and various locations throughout the continental U.S. and outside the continental U.S. and is expected to be completed Sept. 30, 2023. This award was a sole source acquisition. Foreign military sales funds in the amount of $20,272,479 are being obligated at time of award. Air Force Life Cycle Management Center, Hanscom Air Force Base, Massachusetts, is the contracting activity (FA8702-19-C-0001).\n",
            "Crew Training International, Inc., Memphis, Tennessee, has been awarded a $49,550,268 firm-fixed-price modification (P00040) to previously awarded (FA4890-19-C-0003) for the MQ9 Aircrew Training and Courseware Development Contract. The contract modification is for the exercise of Option Year Four. The total cumulative face value of the contract is $241,451,248. Fiscal 2022 operations and maintenance funds are being obligated at time of award. Contract modification (P00042) will add the first incremental funding for Fiscal 2023. Work will be performed at Creech Air Force Base, Nevada, Holloman Air Force Base, New Mexico, March Air Reserve Base, California, and Hancock Air National Guard Base, New York, and is expected to be completed by Sept. 30, 2023 for this option. Headquarters Air Combat Command, Joint Base Langley-Eustis, Virginia, is the contracting activity.\n",
            "DynCorp International, LLC, Fort Worth, Texas, has been awarded a $68,398,134 contract modification (P00067) to previously awarded (FA4890-17-C-0005) for Air Forces Central War Reserve Materiel (WRM) support. The contract modification provides for the exercise of Option Year Six. Total cumulative face value of the contract is $476,162,882. Work will be performed at Shaw Air Force Base, South Carolina, Kuwait, Sultanate of Oman, Qatar, and United Arab Emirates, and is expected to be completed Sept. 30, 2023. Fiscal 2023 operation and maintenance funds are being obligated at time of award. Headquarters Air Combat Command, Joint Base Langley-Eustis, Virginia, is the contracting activity.\n",
            "Chenega Systems, LLC, Lorton, Virginia, has been awarded a $10,141,461 firm-fixed-price definitive-type contract for the purchase of management support services for the Synergy Innovation Project. This contract provides for continued technology support services necessary to provide the 402d Software Engineering Group with a continued turnkey software environment services solution. This contract provides for all equipment, materials, and supplies necessary to continue to operate and manage a software environment for 175 people (estimated ~43,000 sq. ft. space). Work will be performed at Warner Robins, Georgia, and is expected to be completed by Nov. 16, 2027. This award was a direct 8(a) acquisition and one offer was received. Air Force  Sustainment Center, Robins Air Force Base, Georgia, is the contracting activity (FA857123C0001).\n",
            "Sterling Computer Corp., North Sioux City, South Dakota, has been awarded a $16,753,698 firm-fixed-price delivery order (FA8730-22-F-0085) for a High Performance Computing Hardware and Software Technical Refresh. This contract provides for an update to the hardware and software in support of the Virtual Imagery Processing-Capability for both the Relay Ground Station and Distributed Common Ground System. Work will be performed in North Sioux City,  South Dakota, and is expected to be completed by April 1, 2023. This award was a competitive acquisition. Fiscal 2022 Air Force procurement funds in the amount of $16,753,698 are being obligated at time of award. Air Force Life Cycle Management Center, Hanscom Air Force Base, Massachusetts, is the contracting activity (FA8730-22-F-0085).\n",
            "L3Harris Technologies, Williston, Vermont, has been awarded a $60,742,580 firm-fixed-price contract for purchase of Bomb Rack Unit 57B Replacement Parts. This contract provides for procurement on an indefinite-delivery/indefinite-quantity contract in support of the F-16 weapon system. Work will be performed at Clifton, New Jersey, and is expected to be completed by Oct. 4, 2027. This award is a sole source acquisition that involves Foreign Military Sales. Air Force Life Cycle Management Center, Robins Air Force Base, Georgia, is the contracting activity (FA8520-22-D-0004).\n",
            "title ARMY\n",
            "CORRECTION: The $69,500,350 contract (W912HY-22-D-0006) announced on Sept. 30, 2022, to Orion Marine Construction Inc., Tampa, Florida, for pipeline dredging was not awarded. \n",
            "CORRECTION: The $13,033,000 contract (W912HY-22-C-0014) announced on Sept. 30, 2022, to Curtin Maritime Corp.,* Long Beach, California, for hopper dredging of the Houston Ship Channel was instead awarded to Great Lakes Dredge & Dock Company LLC, Houston, Texas, in the amount of $19,960,565.\n",
            "*Small business\n",
            "**Mandatory source\n",
            "------------------\n",
            "http://www.defense.gov/News/Contracts/Contract/Article/3182145/\"\n",
            "title ARMY\n",
            "Nan Inc., Honolulu, Hawaii, was awarded a $53,164,515 firm-fixed-price contract for the construction of a child development center. Bids were solicited via the internet with four received. Work will be performed in Honolulu, Hawaii, with an estimated completion date of Sept. 12, 2025. Fiscal 2022 military construction, Army funds in the amount of $53,164,515 were obligated at the time of the award. U.S. Army Corps of Engineers, Honolulu, Hawaii, is the contracting activity (W9128A-23-C-0003). \n",
            "Kiewit Infrastructure West Company, Honolulu, Hawaii, was awarded a $53,148,000 firm-fixed-price contract to construct a concrete rotary-wing aircraft parking apron, concrete taxiways with helipads and a concrete parallel taxiway at Wheeler Army Airfield. Bids were solicited via the internet with three received. Work will be performed in Wahiawa, Hawaii, with an estimated completion date of Dec. 31, 2024. Fiscal 2022 military construction, Army funds in the amount of $53,148,000 were obligated at the time of the award. U.S. Army Corps of Engineers, Honolulu, Hawaii, is the contracting activity (W9128A-23-C-0002).\n",
            "title WASHINGTON HEADQUARTERS SERVICE\n",
            "CORRECTION: The Prestige Development Services Inc., award (Sept. 27) for a firm-fixed-price, indefinite-delivery/indefinite-quantity contract in the amount of $19,010,000 to procure heavy and civil construction on the Pentagon Reservation for up to 10 years was announced in the wrong contract number. The correct contract number is HQ003422D0026.\n",
            "CORRECTION: The Empire Landscape LLC award (Sept. 27) for a firm-fixed-price, indefinite-delivery/indefinite-quantity contract in the amount of $19,010,000 to procure heavy and civil construction on the Pentagon Reservation for up to 10 years was announced in the wrong contract number. The correct contract number is HQ003422D0025.\n",
            "title NAVY\n",
            "Offshore Service Vessels, LLC of Cut Off, Louisiana (N3220519C3514), is awarded an $11,301,130 option (P00028) for the fixed-price portion of a previously awarded firm-fixed-price contract with reimbursable elements to exercise a one-year option period to support the launch and recovery of U.S. Navy submersibles, divers, and small craft. This is the third, 12-month option and is part of a firm, fixed-price contract with reimbursable elements for one U.S. flag Jones Act, West Coast-based service support vessel, MV Alyssa Chouest. This contract includes a 12-month base period, three 12-month option periods, and one 11-month option period. Work will be performed in Pearl Harbor, Hawaii, and at sea, and is expected to be completed, if all options are exercised, by September 6, 2024. The option is funded by Navy working capital funds for fiscal 23. The U.S. Navy's Military Sealift Command, headquartered in Norfolk, Virginia, is the contracting activity (N3220519C3514).\n",
            "title DEFENSE LOGISTICS AGENCY\n",
            "Belleville Shoe Manufacturing, Co.,* Belleville, Illinois, has been awarded a maximum $10,401,507 modification (P00012) exercising the third one-year option period of a one-year base contract (SPE1C1-20-D-1208) with three one-year option periods for men's and women's combat, temperate weather boots. This is a firm-fixed-price, indefinite-delivery/indefinite-quantity contract. Location of performance is Arkansas, with an Oct. 10, 2023, ordering period end date. Using military service is Air Force. Type of appropriation is fiscal 2023 through 2024 defense working capital funds. The contracting activity is the Defense Logistics Agency Troop Support, Philadelphia, Pennsylvania. \n",
            "UPDATE:  Imagine Milling Technologies, LLC,* Fullerton, California (SPE2DE-23-D-0001, $15,500,000) has been added as an awardee to the multiple award contract for dental consumable items for the Defense Logistics Agency Electronic Catalog, issued against solicitation SPE2DE-20-R0007 and awarded June 10, 2021.  \n",
            "CORRECTION: The contract announced on Sept. 27, 2022 for AvKare, LLC, Pulaski, Tennessee (SPE2D2-22-D-0148) for $8,628,888 was announced with an incorrect award date and incorrect performance completion date. The correct award date is Oct. 4, 2022, and the correct performance completion date is Oct. 4, 2023.  \n",
            "*Small business\n",
            "------------------\n",
            "http://www.defense.gov/News/Contracts/Contract/Article/3183579/\"\n",
            "title DEFENSE LOGISTICS AGENCY\n",
            "WGL Energy Services, Inc., Vienna, Virginia, (SPE604-23-D-8003, $291,252,291); Constellation NewEnergy, Inc., Baltimore, Maryland, (SPE604-23-D-8000, $89,242,032); MP2 Energy NE LLC, Woodlands, Texas, (SPE604-23-D-8002, $70,361,108) and Direct Energy Business, LLC, Pittsburgh, Pennsylvania, (SPE604-23-D-8001, $16,308,321) have each been awarded a firm-fixed-price requirements contract under solicitation SPE604-22-R-0406 for supply and delivery of retail electricity and ancillary/incidental services. These were competitive acquisitions with six responses received. These are two-year contracts with no option periods. Locations of performance are Washington, D.C., Illinois, Ohio, Maryland, Pennsylvania and New Jersey, with a Dec. 31, 2024, performance completion date. Using customers are Army, Navy, Air Force, Department of Agriculture, Defense Department, Department of Energy, Department of Health and Human Services, and Department of Homeland Security. Using customers are solely responsible to fund this contract and vary in appropriation type and fiscal year. The contracting activity is the Defense Logistics Agency Energy, Fort Belvoir, Virginia.\n",
            "title DEFENSE FINANCE AND ACCOUNTING SERVICE\n",
            "Kearney & Company, PC, Alexandria, Virginia, is being awarded a fixed-price and labor-hour contract with a maximum value of $49,238,991 for the audit of the financial statement of the U.S. Army Corps of Engineers (USACE) civil works, and the financial statements for the agencies owning the funds sub-allotted to USACE military programs for fiscal years 2023-2027. Work will be performed in Washington, D.C., and other locations inside and outside of the U.S., with an expected completion date of Dec. 31, 2027. The contract has a 12-month base period with four individual one-year option periods. This contract is the result of a competitive acquisition for which two quotes were received. Fiscal 2023 Army Corps of Engineer civil works revolving funds in the amount of $9,381,934 are being obligated subject to the availability of funds at the time of the award. The Defense Finance and Accounting Service, Contract Services Directorate, Columbus, Ohio, is the contracting activity (HQ0423-23-F-0016).\n",
            "title AIR FORCE\n",
            "SRI International, Menlo Park, California, has been awarded a $12,493,751 cost-plus-fixed-fee contract for ISING Hardware and software prototype.  This contract provides for a prototype solver system demonstrating increased computational efficiency than current state of the art solvers. Work will be performed in Menlo Park, California, and is expected to be completed by Oct. 6, 2027.  This award is the result of a competitive acquisition and 16 offers were received. Fiscal 2022 research, development, test and evaluation funds in the amount of $1,834,860 are being obligated at the time of award.  Air Force Research Laboratory, Rome, New York, is the contracting activity (FA8750-23-C-1001).\n",
            "Lockheed Martin Aeronautics Company, Fort Worth, Texas, and Greenville, South Carolina, has been awarded a $10,355,720 firm-fixed price modification (P00026) to previously awarded contract FA8615-18-C-6058 for F-16 production.  The contract modification provides for the procurement of installation of Joint Helmet Mounted Cueing System (JHMCS) II Line Replaceable Units on fourteen non-flight test aircraft, updates to existing Country Standard Technical Order Manuals and Country Standard Time Compliance Technical Orders. Additionally, this modification provides for the procurement of additional Peculiar Support Equipment and Alternate Mission Equipment. Work will be performed in Greenville, South Carolina, and Fort Worth, Texas, and is expected to be completed by Feb. 28, 2026. This modification involves Foreign Military Sales (FMS) to the Kingdom of Bahrain. FMS funds in the amount of $10,355,720 are being obligated at the time of award. The total cumulative face value of the contract is $1,103,660,353. Air Force Life Cycle Management Center, Wright Patterson Air Force Base, Ohio, is the contracting activity.\n",
            "title ARMY\n",
            "Dynamic Systems Inc., El Segundo, California, was awarded an $8,857,211 firm-fixed-price contract for an upgrade of existing Dell Technologies servers providing Virtual Machine Ware Hyper Converged Infrastructure. Bids were solicited via the internet with four received. Work will be performed in Camp Humphreys, South Korea, with an estimated completion date of Jan. 5, 2023. Fiscal 2022 other procurement, Army funds in the amount of $8,857,211 were obligated at the time of the award. U.S. Army 411th Contracting Support Brigade, Camp Humphreys, South Korea, is the contracting activity (W91QVN-23-F-0002).\n",
            " \n",
            "------------------\n"
          ]
        }
      ]
    },
    {
      "cell_type": "code",
      "source": [
        "for p in sp.find(\"div\",{\"class\" : \"body\"}).findAll(\"p\"): print (p.text)"
      ],
      "metadata": {
        "id": "Cs4-92Oxw6t4"
      },
      "execution_count": null,
      "outputs": []
    },
    {
      "cell_type": "code",
      "source": [
        "a = txt.split(\"\\n\")\n",
        "for i in a:\n",
        "  print(i)\n",
        "  print(\"-------\")"
      ],
      "metadata": {
        "colab": {
          "base_uri": "https://localhost:8080/"
        },
        "id": "BREPl1-v6HqM",
        "outputId": "28b436f3-3681-4bde-bf06-38b9c048926a"
      },
      "execution_count": null,
      "outputs": [
        {
          "output_type": "stream",
          "name": "stdout",
          "text": [
            "\n",
            "-------\n",
            "DEFENSE LOGISTICS AGENCY\n",
            "-------\n",
            "Food Services, Inc.,* Mount Vernon, Washington, has been awarded a maximum $255,000,000 fixed-price with economic-price-adjustment, indefinite-delivery/indefinite-quantity contract for full-line food distribution. This was a competitive acquisition with three responses received. This is a five-year contract with no option periods. Location of performance is Okinawa, Japan, with an Oct. 13, 2027, ordering period end date. Using customers are Army, Navy, Air Force, Marine Corps, Coast Guard, Morale Welfare and Recreation and other federal civilian agencies. Type of appropriation is fiscal 2023 through 2028 defense working capital funds. The contracting agency is the Defense Logistics Agency Troop Support, Philadelphia, Pennsylvania (SPE300-23-D4111).\n",
            "-------\n",
            "Oshkosh Defense LLC, Oshkosh, Wisconsin, has been awarded an estimated $44,485,826 firm-fixed-price, indefinite-quantity contract for various heavy truck weapon systems replacement parts. This was a sole-source acquisition using justification 10 U.S. Code 2304 (c)(1), as stated in Federal Acquisition Regulation 6.302-1. This is a three-year base contract with two one-year option periods. The performance completion date is Oct. 13, 2025. Using military services are Army, Navy, Air Force and Marine Corps. Type of appropriation is fiscal 2022 through 2025 defense working capital funds. The contracting activity is the Defense Logistics Agency Land and Maritime, Columbus, Ohio (SPE7LX-23-D-0005).\n",
            "-------\n",
            "AIR FORCE\n",
            "-------\n",
            "Riverside Research Institute, Arlington, Virginia, has been awarded a $49,468,966 cost-plus-fixed-fee contract for the Microelectronics and Embedded System Assurance (MESA) II research and development effort. Work will be performed at Wright-Patterson Air Force Base, Ohio; and Arlington, Virginia, and is expected to be completed by Jan. 14, 2028. Fiscal 2022 research and development funds in the amount of $650,941 are being obligated at the time of award. Air Force Research Laboratory, Wright-Patterson AFB, Ohio, is the contracting activity (FA8650-23-C-1001).\n",
            "-------\n",
            "CORRECTION: The contract announced Oct. 12, 2022, to L3Harris Technologies, Amityville, New York (FA8520-22-D-0004), for Bomb Rack Unit 57B replacement parts, was actually awarded Oct. 14, 2022, and the contract number is FA8520-23-D-0001. Additionally, the expected work completion date was announced as Oct. 4, 2027, but is expected to be completed by Oct. 14, 2027. \n",
            "-------\n",
            "NAVY\n",
            "-------\n",
            "General Dynamics Electric Boat Corp., Groton, Connecticut, is awarded an $18,106,451 cost-plus-fixed-fee contract to provide U.S. Trident II Strategic Weapon System Kings Bay Trident Trainer Facility kit and engineering support services.  Work will be performed at Groton, Connecticut (66%); Kings Bay, Georgia (25%); and Cape Canaveral, Florida (9%). Work is expected to be completed on Dec. 31, 2025. Fiscal 2022 other procurement (Navy) funds in the amount of $11,888,110; and fiscal 2022 ship building and conversion (Navy) funds in the amount of $1,871,779 will be obligated at time of award. No funds will expire at the end of the current fiscal year.  This contract is being awarded as a sole-source acquisition in accordance with 10 U.S. Code 2304(c)(1). Strategic Systems Programs, Washington, D.C., is the contracting activity (N0003023C6004).\n",
            "-------\n",
            "\r\n",
            "-------\n",
            "*Small business\n",
            "-------\n",
            "\n",
            "-------\n"
          ]
        }
      ]
    }
  ]
}