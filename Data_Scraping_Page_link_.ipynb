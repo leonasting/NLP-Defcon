{
  "nbformat": 4,
  "nbformat_minor": 0,
  "metadata": {
    "colab": {
      "provenance": [],
      "collapsed_sections": [],
      "include_colab_link": true
    },
    "kernelspec": {
      "name": "python3",
      "display_name": "Python 3"
    },
    "language_info": {
      "name": "python"
    }
  },
  "cells": [
    {
      "cell_type": "markdown",
      "metadata": {
        "id": "view-in-github",
        "colab_type": "text"
      },
      "source": [
        "<a href=\"https://colab.research.google.com/github/leonasting/NLP-Devcon/blob/main/Data_Scraping_Page_link_.ipynb\" target=\"_parent\"><img src=\"https://colab.research.google.com/assets/colab-badge.svg\" alt=\"Open In Colab\"/></a>"
      ]
    },
    {
      "cell_type": "markdown",
      "source": [
        "Data Scraping Test Drive"
      ],
      "metadata": {
        "id": "XJKm-GJGxAAc"
      }
    },
    {
      "cell_type": "markdown",
      "source": [
        "### Importing Libraries"
      ],
      "metadata": {
        "id": "OfX4acJ1o-AI"
      }
    },
    {
      "cell_type": "code",
      "source": [
        "import requests\n",
        "import re\n",
        "import pandas as pd\n",
        "from bs4 import BeautifulSoup"
      ],
      "metadata": {
        "id": "2myF7LEjxB-H"
      },
      "execution_count": 28,
      "outputs": []
    },
    {
      "cell_type": "markdown",
      "source": [
        "### Functions to interact with link data extraction."
      ],
      "metadata": {
        "id": "fGJnQTzXzQlo"
      }
    },
    {
      "cell_type": "code",
      "source": [
        "def get_url_content(url_temp):\n",
        "  \"\"\"\n",
        "  takes the querry for url with page id and returns list \n",
        "  \"\"\"\n",
        "  try:\n",
        "    page = requests.get(url_temp)\n",
        "    soup = BeautifulSoup(page.text, 'html.parser')\n",
        "    assert soup is not None,\"unable to retrieve data.\"\n",
        "    ls_a=soup.findAll(\"listing-titles-only\")\n",
        "    ls_url = [[ind_element[\"article-url\"],ind_element[\"publish-date-ap\"]] for ind_element in ls_a]\n",
        "    return [ls_url,\"Successful in retrieving:\"+str(len(ls_url))+\" urls\"]\n",
        "  except AssertionError as msg:\n",
        "    return  [[],msg]\n",
        "  except:\n",
        "    return [[],\"other error\"]\n",
        "\n"
      ],
      "metadata": {
        "id": "HT_Zyme32-_1"
      },
      "execution_count": 29,
      "outputs": []
    },
    {
      "cell_type": "code",
      "source": [
        "def get_content(link_url,publish_date_ap,page_id):\n",
        "  link_page = requests.get(link_url)\n",
        "  soup = BeautifulSoup(link_page.text, 'html.parser')\n",
        "  assert soup is not None,\"unable to retrieve data from url.\"\n",
        "  div_content=soup.find(\"div\", {\"class\":\"body\"})\n",
        "  assert div_content is not None,\"missing body division\"\n",
        "  ls_p = div_content.findAll(\"p\")\n",
        "  assert ls_p is not None,\"missing paragraphs in body division\"\n",
        "  \n",
        "  page=page_id\n",
        "  counter=1\n",
        "  cat=\"\"\n",
        "  ls_content = []\n",
        "  for ind_p in ls_p:\n",
        "    strong_element = ind_p.find(\"strong\")\n",
        "    if strong_element:\n",
        "      cat=strong_element.text\n",
        "    else:\n",
        "      ls_content.append({\"para_id\":\"pg_\"+str(page)+\"_para_\"+str(counter),\n",
        "                        \"content\":ind_p.text,\n",
        "                        \"category\":cat,\n",
        "                        \"publish_date_ap\":publish_date_ap\n",
        "                          })\n",
        "      counter+=1\n",
        "  return ls_content \n",
        "\n",
        "  \n",
        "\n"
      ],
      "metadata": {
        "id": "v1cqKNgA3-gt"
      },
      "execution_count": 30,
      "outputs": []
    },
    {
      "cell_type": "code",
      "source": [
        "#ls_url[0]\n",
        "['http://www.defense.gov/News/Contracts/Contract/Article/3175072/',\n",
        " 'Sept. 29, 2022']\n",
        " #link_data = requests.get(ls_url[0][0])\n",
        "\n",
        "#publish_date_ap= ls_url[0][1]"
      ],
      "metadata": {
        "colab": {
          "base_uri": "https://localhost:8080/"
        },
        "id": "NFLkPSVYs19L",
        "outputId": "58b23951-9a56-4db3-a158-83c9c6dc67e8"
      },
      "execution_count": 31,
      "outputs": [
        {
          "output_type": "execute_result",
          "data": {
            "text/plain": [
              "['http://www.defense.gov/News/Contracts/Contract/Article/3175072/',\n",
              " 'Sept. 29, 2022']"
            ]
          },
          "metadata": {},
          "execution_count": 31
        }
      ]
    },
    {
      "cell_type": "code",
      "source": [
        "base_url=\"https://www.defense.gov/News/Contracts/?Page=\"\n",
        "ls_main_content =[]\n",
        "url_count=0\n",
        "for i in range(1,4):\n",
        "  page_id=2*i\n",
        "  url_temp = base_url+str(page_id)\n",
        "  ls_url, response = get_url_content(url_temp)  \n",
        "  \n",
        "  print(\"Sample link_url:\",ls_url[0][0])\n",
        "  print(\"Sample link_url publish date:\",ls_url[0][1])\n",
        "  if \"Successful\" in response:\n",
        "    print(\"Page id:\"+str(page_id)+\" \"+response)\n",
        "  else:\n",
        "    print(\"Page id:\"+str(page_id)+\" \"+response)\n",
        "    continue\n",
        "  url_count+=len(ls_url)\n",
        "  # link handling block\n",
        "  for link_url, publish_date_ap in ls_url:\n",
        "    try:\n",
        "      ls_content = get_content(link_url,publish_date_ap,page_id)    \n",
        "    except AssertionError as msg:\n",
        "      print(link_url,\"\\n Response\",msg)\n",
        "      continue\n",
        "    except:\n",
        "      print(link_url,\"\\n Response\")\n",
        "      print(\"Failed with Unknown error while reteiving url link content.\")\n",
        "      continue\n",
        "    if ls_content:\n",
        "      ls_main_content.extend(ls_content)\n"
      ],
      "metadata": {
        "colab": {
          "base_uri": "https://localhost:8080/"
        },
        "id": "IJl5V9u3tPpx",
        "outputId": "b36b4900-a4d0-42e4-fc91-28c9204ad40f"
      },
      "execution_count": 32,
      "outputs": [
        {
          "output_type": "stream",
          "name": "stdout",
          "text": [
            "Sample link_url: http://www.defense.gov/News/Contracts/Contract/Article/3175072/\n",
            "Sample link_url publish date: Sept. 29, 2022\n",
            "Page id:2 Successful in retrieving:10 urls\n",
            "Sample link_url: http://www.defense.gov/News/Contracts/Contract/Article/3146093/\n",
            "Sample link_url publish date: Aug. 31, 2022\n",
            "Page id:4 Successful in retrieving:10 urls\n",
            "Sample link_url: http://www.defense.gov/News/Contracts/Contract/Article/3115725/\n",
            "Sample link_url publish date: Aug. 3, 2022\n",
            "Page id:6 Successful in retrieving:10 urls\n"
          ]
        }
      ]
    },
    {
      "cell_type": "code",
      "source": [
        "url_count"
      ],
      "metadata": {
        "colab": {
          "base_uri": "https://localhost:8080/"
        },
        "id": "-paLfTzK04-G",
        "outputId": "62d2e435-5434-4858-a19e-cceac18dc927"
      },
      "execution_count": 33,
      "outputs": [
        {
          "output_type": "execute_result",
          "data": {
            "text/plain": [
              "30"
            ]
          },
          "metadata": {},
          "execution_count": 33
        }
      ]
    },
    {
      "cell_type": "markdown",
      "source": [
        "## Understanding the Scraped Data"
      ],
      "metadata": {
        "id": "Dov68aVA05kv"
      }
    },
    {
      "cell_type": "code",
      "source": [
        "print(\"Total URL accessed:\"+str(url_count))\n",
        "print(\"Total Contracts accessed:\"+str(len(ls_main_content)))\n"
      ],
      "metadata": {
        "colab": {
          "base_uri": "https://localhost:8080/"
        },
        "id": "4VY2GwiT7Rbk",
        "outputId": "28155714-9cb7-4452-fb07-9459b40c7dcc"
      },
      "execution_count": 34,
      "outputs": [
        {
          "output_type": "stream",
          "name": "stdout",
          "text": [
            "Total URL accessed:30\n",
            "Total Contracts accessed:741\n"
          ]
        }
      ]
    },
    {
      "cell_type": "code",
      "source": [
        "df=pd.DataFrame(ls_main_content)"
      ],
      "metadata": {
        "id": "UZEdDAiWpqh7"
      },
      "execution_count": 35,
      "outputs": []
    },
    {
      "cell_type": "code",
      "source": [
        "df.head()"
      ],
      "metadata": {
        "colab": {
          "base_uri": "https://localhost:8080/",
          "height": 206
        },
        "id": "OitjrCJXpunk",
        "outputId": "ae8690e8-5985-47ee-97cf-646a7435c353"
      },
      "execution_count": 36,
      "outputs": [
        {
          "output_type": "execute_result",
          "data": {
            "text/plain": [
              "       para_id                                            content category  \\\n",
              "0  pg_2_para_1  DPR-RQ Construction, LLC, Carlsbad, California...     NAVY   \n",
              "1  pg_2_para_2  Lockheed Martin Corp., Fort Worth, Texas, is a...     NAVY   \n",
              "2  pg_2_para_3  Innovative Mechanical Contractors LLC, * Westm...     NAVY   \n",
              "3  pg_2_para_4  Raytheon Missiles & Defense, Tucson, Arizona, ...     NAVY   \n",
              "4  pg_2_para_5  Hornbeck Offshore Operators, LLC, of Covington...     NAVY   \n",
              "\n",
              "  publish_date_ap  \n",
              "0  Sept. 29, 2022  \n",
              "1  Sept. 29, 2022  \n",
              "2  Sept. 29, 2022  \n",
              "3  Sept. 29, 2022  \n",
              "4  Sept. 29, 2022  "
            ],
            "text/html": [
              "\n",
              "  <div id=\"df-e1b845c8-980a-4f4b-849f-e1c943c3ce7d\">\n",
              "    <div class=\"colab-df-container\">\n",
              "      <div>\n",
              "<style scoped>\n",
              "    .dataframe tbody tr th:only-of-type {\n",
              "        vertical-align: middle;\n",
              "    }\n",
              "\n",
              "    .dataframe tbody tr th {\n",
              "        vertical-align: top;\n",
              "    }\n",
              "\n",
              "    .dataframe thead th {\n",
              "        text-align: right;\n",
              "    }\n",
              "</style>\n",
              "<table border=\"1\" class=\"dataframe\">\n",
              "  <thead>\n",
              "    <tr style=\"text-align: right;\">\n",
              "      <th></th>\n",
              "      <th>para_id</th>\n",
              "      <th>content</th>\n",
              "      <th>category</th>\n",
              "      <th>publish_date_ap</th>\n",
              "    </tr>\n",
              "  </thead>\n",
              "  <tbody>\n",
              "    <tr>\n",
              "      <th>0</th>\n",
              "      <td>pg_2_para_1</td>\n",
              "      <td>DPR-RQ Construction, LLC, Carlsbad, California...</td>\n",
              "      <td>NAVY</td>\n",
              "      <td>Sept. 29, 2022</td>\n",
              "    </tr>\n",
              "    <tr>\n",
              "      <th>1</th>\n",
              "      <td>pg_2_para_2</td>\n",
              "      <td>Lockheed Martin Corp., Fort Worth, Texas, is a...</td>\n",
              "      <td>NAVY</td>\n",
              "      <td>Sept. 29, 2022</td>\n",
              "    </tr>\n",
              "    <tr>\n",
              "      <th>2</th>\n",
              "      <td>pg_2_para_3</td>\n",
              "      <td>Innovative Mechanical Contractors LLC, * Westm...</td>\n",
              "      <td>NAVY</td>\n",
              "      <td>Sept. 29, 2022</td>\n",
              "    </tr>\n",
              "    <tr>\n",
              "      <th>3</th>\n",
              "      <td>pg_2_para_4</td>\n",
              "      <td>Raytheon Missiles &amp; Defense, Tucson, Arizona, ...</td>\n",
              "      <td>NAVY</td>\n",
              "      <td>Sept. 29, 2022</td>\n",
              "    </tr>\n",
              "    <tr>\n",
              "      <th>4</th>\n",
              "      <td>pg_2_para_5</td>\n",
              "      <td>Hornbeck Offshore Operators, LLC, of Covington...</td>\n",
              "      <td>NAVY</td>\n",
              "      <td>Sept. 29, 2022</td>\n",
              "    </tr>\n",
              "  </tbody>\n",
              "</table>\n",
              "</div>\n",
              "      <button class=\"colab-df-convert\" onclick=\"convertToInteractive('df-e1b845c8-980a-4f4b-849f-e1c943c3ce7d')\"\n",
              "              title=\"Convert this dataframe to an interactive table.\"\n",
              "              style=\"display:none;\">\n",
              "        \n",
              "  <svg xmlns=\"http://www.w3.org/2000/svg\" height=\"24px\"viewBox=\"0 0 24 24\"\n",
              "       width=\"24px\">\n",
              "    <path d=\"M0 0h24v24H0V0z\" fill=\"none\"/>\n",
              "    <path d=\"M18.56 5.44l.94 2.06.94-2.06 2.06-.94-2.06-.94-.94-2.06-.94 2.06-2.06.94zm-11 1L8.5 8.5l.94-2.06 2.06-.94-2.06-.94L8.5 2.5l-.94 2.06-2.06.94zm10 10l.94 2.06.94-2.06 2.06-.94-2.06-.94-.94-2.06-.94 2.06-2.06.94z\"/><path d=\"M17.41 7.96l-1.37-1.37c-.4-.4-.92-.59-1.43-.59-.52 0-1.04.2-1.43.59L10.3 9.45l-7.72 7.72c-.78.78-.78 2.05 0 2.83L4 21.41c.39.39.9.59 1.41.59.51 0 1.02-.2 1.41-.59l7.78-7.78 2.81-2.81c.8-.78.8-2.07 0-2.86zM5.41 20L4 18.59l7.72-7.72 1.47 1.35L5.41 20z\"/>\n",
              "  </svg>\n",
              "      </button>\n",
              "      \n",
              "  <style>\n",
              "    .colab-df-container {\n",
              "      display:flex;\n",
              "      flex-wrap:wrap;\n",
              "      gap: 12px;\n",
              "    }\n",
              "\n",
              "    .colab-df-convert {\n",
              "      background-color: #E8F0FE;\n",
              "      border: none;\n",
              "      border-radius: 50%;\n",
              "      cursor: pointer;\n",
              "      display: none;\n",
              "      fill: #1967D2;\n",
              "      height: 32px;\n",
              "      padding: 0 0 0 0;\n",
              "      width: 32px;\n",
              "    }\n",
              "\n",
              "    .colab-df-convert:hover {\n",
              "      background-color: #E2EBFA;\n",
              "      box-shadow: 0px 1px 2px rgba(60, 64, 67, 0.3), 0px 1px 3px 1px rgba(60, 64, 67, 0.15);\n",
              "      fill: #174EA6;\n",
              "    }\n",
              "\n",
              "    [theme=dark] .colab-df-convert {\n",
              "      background-color: #3B4455;\n",
              "      fill: #D2E3FC;\n",
              "    }\n",
              "\n",
              "    [theme=dark] .colab-df-convert:hover {\n",
              "      background-color: #434B5C;\n",
              "      box-shadow: 0px 1px 3px 1px rgba(0, 0, 0, 0.15);\n",
              "      filter: drop-shadow(0px 1px 2px rgba(0, 0, 0, 0.3));\n",
              "      fill: #FFFFFF;\n",
              "    }\n",
              "  </style>\n",
              "\n",
              "      <script>\n",
              "        const buttonEl =\n",
              "          document.querySelector('#df-e1b845c8-980a-4f4b-849f-e1c943c3ce7d button.colab-df-convert');\n",
              "        buttonEl.style.display =\n",
              "          google.colab.kernel.accessAllowed ? 'block' : 'none';\n",
              "\n",
              "        async function convertToInteractive(key) {\n",
              "          const element = document.querySelector('#df-e1b845c8-980a-4f4b-849f-e1c943c3ce7d');\n",
              "          const dataTable =\n",
              "            await google.colab.kernel.invokeFunction('convertToInteractive',\n",
              "                                                     [key], {});\n",
              "          if (!dataTable) return;\n",
              "\n",
              "          const docLinkHtml = 'Like what you see? Visit the ' +\n",
              "            '<a target=\"_blank\" href=https://colab.research.google.com/notebooks/data_table.ipynb>data table notebook</a>'\n",
              "            + ' to learn more about interactive tables.';\n",
              "          element.innerHTML = '';\n",
              "          dataTable['output_type'] = 'display_data';\n",
              "          await google.colab.output.renderOutput(dataTable, element);\n",
              "          const docLink = document.createElement('div');\n",
              "          docLink.innerHTML = docLinkHtml;\n",
              "          element.appendChild(docLink);\n",
              "        }\n",
              "      </script>\n",
              "    </div>\n",
              "  </div>\n",
              "  "
            ]
          },
          "metadata": {},
          "execution_count": 36
        }
      ]
    },
    {
      "cell_type": "code",
      "source": [
        "df.iloc[0,1]"
      ],
      "metadata": {
        "colab": {
          "base_uri": "https://localhost:8080/",
          "height": 105
        },
        "id": "EnRQKXgLp2oJ",
        "outputId": "6545a2da-f694-4527-89d6-6961aa802466"
      },
      "execution_count": 37,
      "outputs": [
        {
          "output_type": "execute_result",
          "data": {
            "text/plain": [
              "'DPR-RQ Construction, LLC, Carlsbad, California (N62473-22-D-1403); Gilbane Federal JV, Concord, California (N62473-22-D-1404); Hensel Phelps Construction Co., Irvine, California (N62473-22-D-1406); Kiewit Building Group Inc., Springfield, Virginia (N62473-22-D-1406); The Robins & Morton Group, Birmingham, Alabama (N62473-22-D-1407); StructSure Projects, Inc., Kansas City, Missouri (N62473-22-D-1408); and Walsh Construction Group, LLC, Chicago, Illinois (N62473-22-D-1409) are awarded a combined $1,000,000,000 firm-fixed-price, indefinite-delivery/indefinite-quantity contract for new construction and repair and renovation of medical treatment facility projects at various government installations located in California, Arizona, Nevada, Hawaii, Utah, Colorado, and New Mexico. The work to be performed provides for but is not limited to hospitals, ambulatory care centers, medical and dental clinics, and medical research laboratories. Each awardee will be awarded $5,000 (minimum contract guarantee per awardee) at contract award. These contracts include options which, if exercised, would bring the cumulative value to $1,000,000,000 over an eight-year period to the seven vendors combined. Work will be performed in the states of California (87%), Arizona (5%), Nevada (3%), Hawaii (2%), Utah (1%), Colorado (1%), and New Mexico (1%), and is expected to be completed by September 2030. Fiscal 2022 operation and maintenance (Navy) funding in the amount of $35,000 will be obligated at the time of award and will expire at the end of the current fiscal year. All other funding will be made available at the delivery order level as contracting actions occur. This contract was competitively procured via the System for Award Management website, with 14 offers received. The Naval Facilities Engineering Systems Command, Southwest, San Diego, California, is the contracting activity.'"
            ],
            "application/vnd.google.colaboratory.intrinsic+json": {
              "type": "string"
            }
          },
          "metadata": {},
          "execution_count": 37
        }
      ]
    },
    {
      "cell_type": "code",
      "source": [
        "df.iloc[1,1]"
      ],
      "metadata": {
        "colab": {
          "base_uri": "https://localhost:8080/",
          "height": 105
        },
        "id": "HLL9xx3PqjMK",
        "outputId": "1a748cb2-2807-41b9-f6ef-bab3f5453f24"
      },
      "execution_count": 38,
      "outputs": [
        {
          "output_type": "execute_result",
          "data": {
            "text/plain": [
              "'Lockheed Martin Corp., Fort Worth, Texas, is awarded a not-to-exceed $152,329,105 fixed-price-incentive-firm-target, cost-plus-fixed-fee undefinitized indefinite-delivery/indefinite-quantity contract. This contract provides for the production of the F-35 Logistics Information Systems to include Autonomic Logistics Information System and Operational Data Integrated Network (ODIN), and Mission Planning Environment (MPE) hardware, as well as associated contract management, planning and readiness reviews and non-recurring introduction to service activities necessary to field the F-35 ODIN, MPE, and components of any future ODIN and MPE retrofits for the F-35A, F-35B and F-35C aircraft. Work will be performed in Orlando, Florida (95%) and Fort Worth, Texas (5%), and is expected to be completed in December 2024. No funds will be obligated at the time of award; funds will be obligated on individual orders as they are issued. This contract was not competitively procured pursuant to 10 USC 2304(c)(1). The Naval Air Systems Command, Patuxent River, Maryland, is the contracting activity (N0001922D0004).'"
            ],
            "application/vnd.google.colaboratory.intrinsic+json": {
              "type": "string"
            }
          },
          "metadata": {},
          "execution_count": 38
        }
      ]
    },
    {
      "cell_type": "code",
      "source": [
        "set(df.iloc[:,2])"
      ],
      "metadata": {
        "colab": {
          "base_uri": "https://localhost:8080/"
        },
        "id": "a4D3tyI6snuG",
        "outputId": "ad236df0-bc84-4bd9-d55c-22d6f546b182"
      },
      "execution_count": 39,
      "outputs": [
        {
          "output_type": "execute_result",
          "data": {
            "text/plain": [
              "{'AIR FORCE',\n",
              " 'AIR FORCE\\xa0',\n",
              " 'ARMY',\n",
              " 'DEFENSE ADVANCED RESEARCH PROJECTS AGENCY',\n",
              " 'DEFENSE COUNTERINTELLIGENCE AND SECURITY AGENCY',\n",
              " 'DEFENSE HEALTH AGENCY',\n",
              " 'DEFENSE HUMAN RESOURCES ACTIVITY',\n",
              " 'DEFENSE INFORMATION SYSTEMS AGENCY',\n",
              " 'DEFENSE LOGISTICS AGENCY',\n",
              " 'DEFENSE LOGISTICS AGENCY\\xa0',\n",
              " 'DEFENSE THREAT REDUCTION AGENCY',\n",
              " 'DEPARTMENT OF DEFENSE EDUCATION ACTIVITY',\n",
              " 'MISSILE DEFENSE AGENCY',\n",
              " 'NAVY',\n",
              " 'U.S. SPECIAL OPERATIONS COMMAND',\n",
              " 'U.S. TRANSPORTATION COMMAND',\n",
              " 'WASHINGTON HEADQUARTERS SERVICE',\n",
              " 'WASHINGTON HEADQUARTERS SERVICES'}"
            ]
          },
          "metadata": {},
          "execution_count": 39
        }
      ]
    },
    {
      "cell_type": "code",
      "source": [
        "set(df.iloc[:,3])"
      ],
      "metadata": {
        "colab": {
          "base_uri": "https://localhost:8080/"
        },
        "id": "Wkc5ZWKZv0-r",
        "outputId": "a722268f-7958-4b25-f601-dffb6fd2ddc1"
      },
      "execution_count": 40,
      "outputs": [
        {
          "output_type": "execute_result",
          "data": {
            "text/plain": [
              "{'Aug. 1, 2022',\n",
              " 'Aug. 18, 2022',\n",
              " 'Aug. 19, 2022',\n",
              " 'Aug. 2, 2022',\n",
              " 'Aug. 22, 2022',\n",
              " 'Aug. 23, 2022',\n",
              " 'Aug. 24, 2022',\n",
              " 'Aug. 25, 2022',\n",
              " 'Aug. 26, 2022',\n",
              " 'Aug. 29, 2022',\n",
              " 'Aug. 3, 2022',\n",
              " 'Aug. 30, 2022',\n",
              " 'Aug. 31, 2022',\n",
              " 'July 21, 2022',\n",
              " 'July 22, 2022',\n",
              " 'July 25, 2022',\n",
              " 'July 26, 2022',\n",
              " 'July 27, 2022',\n",
              " 'July 28, 2022',\n",
              " 'July 29, 2022',\n",
              " 'Sept. 16, 2022',\n",
              " 'Sept. 19, 2022',\n",
              " 'Sept. 20, 2022',\n",
              " 'Sept. 21, 2022',\n",
              " 'Sept. 22, 2022',\n",
              " 'Sept. 23, 2022',\n",
              " 'Sept. 26, 2022',\n",
              " 'Sept. 27, 2022',\n",
              " 'Sept. 28, 2022',\n",
              " 'Sept. 29, 2022'}"
            ]
          },
          "metadata": {},
          "execution_count": 40
        }
      ]
    },
    {
      "cell_type": "markdown",
      "source": [],
      "metadata": {
        "id": "qYVMX3P433Kp"
      }
    }
  ]
}