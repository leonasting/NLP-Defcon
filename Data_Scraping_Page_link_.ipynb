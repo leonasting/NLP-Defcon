{
  "nbformat": 4,
  "nbformat_minor": 0,
  "metadata": {
    "colab": {
      "provenance": [],
      "collapsed_sections": [],
      "include_colab_link": true
    },
    "kernelspec": {
      "name": "python3",
      "display_name": "Python 3"
    },
    "language_info": {
      "name": "python"
    }
  },
  "cells": [
    {
      "cell_type": "markdown",
      "metadata": {
        "id": "view-in-github",
        "colab_type": "text"
      },
      "source": [
        "<a href=\"https://colab.research.google.com/github/leonasting/NLP-Devcon/blob/main/Data_Scraping_Page_link_.ipynb\" target=\"_parent\"><img src=\"https://colab.research.google.com/assets/colab-badge.svg\" alt=\"Open In Colab\"/></a>"
      ]
    },
    {
      "cell_type": "markdown",
      "source": [
        "Data Scraping Test Drive"
      ],
      "metadata": {
        "id": "XJKm-GJGxAAc"
      }
    },
    {
      "cell_type": "markdown",
      "source": [
        "### Importing Libraries"
      ],
      "metadata": {
        "id": "OfX4acJ1o-AI"
      }
    },
    {
      "cell_type": "code",
      "source": [
        "import requests\n",
        "import re\n",
        "import pandas as pd\n",
        "from bs4 import BeautifulSoup"
      ],
      "metadata": {
        "id": "2myF7LEjxB-H"
      },
      "execution_count": 1,
      "outputs": []
    },
    {
      "cell_type": "markdown",
      "source": [
        "### Functions to interact with link data extraction."
      ],
      "metadata": {
        "id": "fGJnQTzXzQlo"
      }
    },
    {
      "cell_type": "code",
      "source": [
        "def get_url_content(url_temp):\n",
        "  \"\"\"\n",
        "  takes the querry for url with page id and returns list \n",
        "  \"\"\"\n",
        "  try:\n",
        "    page = requests.get(url_temp)\n",
        "    soup = BeautifulSoup(page.text, 'html.parser')\n",
        "    assert soup is not None,\"unable to retrieve data.\"\n",
        "    ls_a=soup.findAll(\"listing-titles-only\")\n",
        "    ls_url = [[ind_element[\"article-url\"],ind_element[\"publish-date-ap\"]] for ind_element in ls_a]\n",
        "    return [ls_url,\"Successful in retrieving:\"+str(len(ls_url))+\" urls\"]\n",
        "  except AssertionError as msg:\n",
        "    return  [[],msg]\n",
        "  except:\n",
        "    return [[],\"other error\"]\n",
        "\n"
      ],
      "metadata": {
        "id": "HT_Zyme32-_1"
      },
      "execution_count": 2,
      "outputs": []
    },
    {
      "cell_type": "code",
      "source": [
        "def get_content(link_url,publish_date_ap,page_id=None):\n",
        "  link_page = requests.get(link_url)\n",
        "  soup = BeautifulSoup(link_page.text, 'html.parser')\n",
        "  assert soup is not None,\"unable to retrieve data from url.\"\n",
        "  div_content=soup.find(\"div\", {\"class\":\"body\"})\n",
        "  assert div_content is not None,\"missing body division\"\n",
        "  ls_p = div_content.findAll(\"p\")\n",
        "  assert ls_p is not None,\"missing paragraphs in body division\"\n",
        "  link_url_art_id=link_url.split('/')[-2]\n",
        "  #page=page_id\n",
        "  counter=1\n",
        "  cat=\"\"\n",
        "  ls_content = []\n",
        "  for ind_p in ls_p:\n",
        "    strong_element = ind_p.find(\"strong\")\n",
        "    if strong_element:\n",
        "      cat=strong_element.text\n",
        "    else:\n",
        "      ls_content.append({\"para_id\":\"art_\"+link_url_art_id+\"_para_\"+str(counter),\n",
        "                        \"content\":ind_p.text,\n",
        "                        \"category\":cat,\n",
        "                        \"publish_date_ap\":publish_date_ap\n",
        "                          })\n",
        "      counter+=1\n",
        "  return ls_content \n",
        "\n",
        "  \n",
        "\n"
      ],
      "metadata": {
        "id": "v1cqKNgA3-gt"
      },
      "execution_count": 3,
      "outputs": []
    },
    {
      "cell_type": "code",
      "source": [
        "#ls_url[0]\n",
        "['http://www.defense.gov/News/Contracts/Contract/Article/3175072/',\n",
        " 'Sept. 29, 2022']\n",
        " #link_data = requests.get(ls_url[0][0])\n",
        "\n",
        "#publish_date_ap= ls_url[0][1]"
      ],
      "metadata": {
        "colab": {
          "base_uri": "https://localhost:8080/"
        },
        "id": "NFLkPSVYs19L",
        "outputId": "58b23951-9a56-4db3-a158-83c9c6dc67e8"
      },
      "execution_count": null,
      "outputs": [
        {
          "output_type": "execute_result",
          "data": {
            "text/plain": [
              "['http://www.defense.gov/News/Contracts/Contract/Article/3175072/',\n",
              " 'Sept. 29, 2022']"
            ]
          },
          "metadata": {},
          "execution_count": 31
        }
      ]
    },
    {
      "cell_type": "code",
      "source": [
        "base_url=\"https://www.defense.gov/News/Contracts/?Page=\"\n",
        "ls_main_content =[]\n",
        "url_count=0\n",
        "for i in range(1,30):\n",
        "  #page_id=2*i\n",
        "  page_id=i\n",
        "  url_temp = base_url+str(page_id)\n",
        "  ls_url, response = get_url_content(url_temp)  \n",
        "  \n",
        "  print(\"Sample link_url:\",ls_url[0][0])\n",
        "  print(\"Sample link_url publish date:\",ls_url[0][1])\n",
        "  if \"Successful\" in response:\n",
        "    print(\"Page id:\"+str(page_id)+\" \"+response)\n",
        "  else:\n",
        "    print(\"Page id:\"+str(page_id)+\" \"+response)\n",
        "    continue\n",
        "  url_count+=len(ls_url)\n",
        "  # link handling block\n",
        "  for link_url, publish_date_ap in ls_url:\n",
        "    try:\n",
        "      ls_content = get_content(link_url,publish_date_ap,page_id)    \n",
        "    except AssertionError as msg:\n",
        "      print(link_url,\"\\n Response\",msg)\n",
        "      continue\n",
        "    except:\n",
        "      print(link_url,\"\\n Response\")\n",
        "      print(\"Failed with Unknown error while reteiving url link content.\")\n",
        "      continue\n",
        "    if ls_content:\n",
        "      ls_main_content.extend(ls_content)\n"
      ],
      "metadata": {
        "colab": {
          "base_uri": "https://localhost:8080/"
        },
        "id": "IJl5V9u3tPpx",
        "outputId": "3adee7e0-5eef-4152-d571-7f0ffb5f9977"
      },
      "execution_count": 9,
      "outputs": [
        {
          "output_type": "stream",
          "name": "stdout",
          "text": [
            "Sample link_url: http://www.defense.gov/News/Contracts/Contract/Article/3196439/\n",
            "Sample link_url publish date: Oct. 21, 2022\n",
            "Page id:1 Successful in retrieving:10 urls\n",
            "Sample link_url: http://www.defense.gov/News/Contracts/Contract/Article/3182145/\n",
            "Sample link_url publish date: Oct. 6, 2022\n",
            "Page id:2 Successful in retrieving:10 urls\n",
            "Sample link_url: http://www.defense.gov/News/Contracts/Contract/Article/3168041/\n",
            "Sample link_url publish date: Sept. 22, 2022\n",
            "Page id:3 Successful in retrieving:10 urls\n",
            "Sample link_url: http://www.defense.gov/News/Contracts/Contract/Article/3153056/\n",
            "Sample link_url publish date: Sept. 8, 2022\n",
            "Page id:4 Successful in retrieving:10 urls\n",
            "Sample link_url: http://www.defense.gov/News/Contracts/Contract/Article/3138645/\n",
            "Sample link_url publish date: Aug. 24, 2022\n",
            "Page id:5 Successful in retrieving:10 urls\n",
            "Sample link_url: http://www.defense.gov/News/Contracts/Contract/Article/3123651/\n",
            "Sample link_url publish date: Aug. 10, 2022\n",
            "Page id:6 Successful in retrieving:10 urls\n",
            "Sample link_url: http://www.defense.gov/News/Contracts/Contract/Article/3107792/\n",
            "Sample link_url publish date: July 27, 2022\n",
            "Page id:7 Successful in retrieving:10 urls\n",
            "Sample link_url: http://www.defense.gov/News/Contracts/Contract/Article/3092271/\n",
            "Sample link_url publish date: July 13, 2022\n",
            "Page id:8 Successful in retrieving:10 urls\n",
            "Sample link_url: http://www.defense.gov/News/Contracts/Contract/Article/3077698/\n",
            "Sample link_url publish date: June 28, 2022\n",
            "Page id:9 Successful in retrieving:10 urls\n",
            "Sample link_url: http://www.defense.gov/News/Contracts/Contract/Article/3061507/\n",
            "Sample link_url publish date: June 13, 2022\n",
            "Page id:10 Successful in retrieving:10 urls\n",
            "Sample link_url: http://www.defense.gov/News/Contracts/Contract/Article/3046664/\n",
            "Sample link_url publish date: May 27, 2022\n",
            "Page id:11 Successful in retrieving:10 urls\n",
            "Sample link_url: http://www.defense.gov/News/Contracts/Contract/Article/3031711/\n",
            "Sample link_url publish date: May 13, 2022\n",
            "Page id:12 Successful in retrieving:10 urls\n",
            "Sample link_url: http://www.defense.gov/News/Contracts/Contract/Article/3015543/\n",
            "Sample link_url publish date: April 29, 2022\n",
            "Page id:13 Successful in retrieving:10 urls\n",
            "Sample link_url: http://www.defense.gov/News/Contracts/Contract/Article/3001382/\n",
            "Sample link_url publish date: April 15, 2022\n",
            "Page id:14 Successful in retrieving:10 urls\n",
            "Sample link_url: http://www.defense.gov/News/Contracts/Contract/Article/2986932/\n",
            "Sample link_url publish date: April 1, 2022\n",
            "Page id:15 Successful in retrieving:10 urls\n",
            "Sample link_url: http://www.defense.gov/News/Contracts/Contract/Article/2971812/\n",
            "Sample link_url publish date: March 18, 2022\n",
            "Page id:16 Successful in retrieving:10 urls\n",
            "Sample link_url: http://www.defense.gov/News/Contracts/Contract/Article/2955530/\n",
            "Sample link_url publish date: March 4, 2022\n",
            "Page id:17 Successful in retrieving:10 urls\n",
            "Sample link_url: http://www.defense.gov/News/Contracts/Contract/Article/2939663/\n",
            "Sample link_url publish date: Feb. 17, 2022\n",
            "Page id:18 Successful in retrieving:10 urls\n",
            "Sample link_url: http://www.defense.gov/News/Contracts/Contract/Article/2922704/\n",
            "Sample link_url publish date: Feb. 3, 2022\n",
            "Page id:19 Successful in retrieving:10 urls\n",
            "Sample link_url: http://www.defense.gov/News/Contracts/Contract/Article/2906241/\n",
            "Sample link_url publish date: Jan. 20, 2022\n",
            "Page id:20 Successful in retrieving:10 urls\n",
            "Sample link_url: http://www.defense.gov/News/Contracts/Contract/Article/2889795/\n",
            "Sample link_url publish date: Jan. 5, 2022\n",
            "Page id:21 Successful in retrieving:10 urls\n",
            "Sample link_url: http://www.defense.gov/News/Contracts/Contract/Article/2880108/\n",
            "Sample link_url publish date: Dec. 20, 2021\n",
            "Page id:22 Successful in retrieving:10 urls\n",
            "Sample link_url: http://www.defense.gov/News/Contracts/Contract/Article/2863449/\n",
            "Sample link_url publish date: Dec. 6, 2021\n",
            "Page id:23 Successful in retrieving:10 urls\n",
            "Sample link_url: http://www.defense.gov/News/Contracts/Contract/Article/2849645/\n",
            "Sample link_url publish date: Nov. 19, 2021\n",
            "Page id:24 Successful in retrieving:10 urls\n",
            "Sample link_url: http://www.defense.gov/News/Contracts/Contract/Article/2834064/\n",
            "Sample link_url publish date: Nov. 4, 2021\n",
            "Page id:25 Successful in retrieving:10 urls\n",
            "Sample link_url: http://www.defense.gov/News/Contracts/Contract/Article/2819116/\n",
            "Sample link_url publish date: Oct. 21, 2021\n",
            "Page id:26 Successful in retrieving:10 urls\n",
            "Sample link_url: http://www.defense.gov/News/Contracts/Contract/Article/2803214/\n",
            "Sample link_url publish date: Oct. 6, 2021\n",
            "Page id:27 Successful in retrieving:10 urls\n",
            "Sample link_url: http://www.defense.gov/News/Contracts/Contract/Article/2785412/\n",
            "Sample link_url publish date: Sept. 22, 2021\n",
            "Page id:28 Successful in retrieving:10 urls\n",
            "Sample link_url: http://www.defense.gov/News/Contracts/Contract/Article/2768102/\n",
            "Sample link_url publish date: Sept. 8, 2021\n",
            "Page id:29 Successful in retrieving:10 urls\n"
          ]
        }
      ]
    },
    {
      "cell_type": "code",
      "source": [
        "url_count"
      ],
      "metadata": {
        "colab": {
          "base_uri": "https://localhost:8080/"
        },
        "id": "-paLfTzK04-G",
        "outputId": "2d02f49c-d410-4f38-e5f6-ee7b5165e13d"
      },
      "execution_count": 10,
      "outputs": [
        {
          "output_type": "execute_result",
          "data": {
            "text/plain": [
              "290"
            ]
          },
          "metadata": {},
          "execution_count": 10
        }
      ]
    },
    {
      "cell_type": "markdown",
      "source": [
        "## Understanding the Scraped Data"
      ],
      "metadata": {
        "id": "Dov68aVA05kv"
      }
    },
    {
      "cell_type": "code",
      "source": [
        "print(\"Total URL accessed:\"+str(url_count))\n",
        "print(\"Total Contracts accessed:\"+str(len(ls_main_content)))\n"
      ],
      "metadata": {
        "colab": {
          "base_uri": "https://localhost:8080/"
        },
        "id": "4VY2GwiT7Rbk",
        "outputId": "24867c8b-1072-41b4-af25-6330b4ab7548"
      },
      "execution_count": 11,
      "outputs": [
        {
          "output_type": "stream",
          "name": "stdout",
          "text": [
            "Total URL accessed:290\n",
            "Total Contracts accessed:4542\n"
          ]
        }
      ]
    },
    {
      "cell_type": "code",
      "source": [
        "df=pd.DataFrame(ls_main_content)"
      ],
      "metadata": {
        "id": "UZEdDAiWpqh7"
      },
      "execution_count": 12,
      "outputs": []
    },
    {
      "cell_type": "code",
      "source": [
        "df.head()"
      ],
      "metadata": {
        "colab": {
          "base_uri": "https://localhost:8080/",
          "height": 206
        },
        "id": "OitjrCJXpunk",
        "outputId": "e092fa7b-7817-4662-b4df-47af31e65413"
      },
      "execution_count": 13,
      "outputs": [
        {
          "output_type": "execute_result",
          "data": {
            "text/plain": [
              "              para_id                                            content  \\\n",
              "0  art_3196439_para_1  Engineering Research and Consulting Inc., Hunt...   \n",
              "1  art_3196439_para_2  Lockheed Martin Corp., Grand Prairie, Texas, w...   \n",
              "2  art_3196439_para_3  Northrop Grumman Systems Corp., doing business...   \n",
              "3  art_3196439_para_4  Lockheed Martin Aeronautics Co., Fort Worth, T...   \n",
              "4  art_3196439_para_5  Lockheed Martin Corp., Fort Worth, Texas, is a...   \n",
              "\n",
              "  category publish_date_ap  \n",
              "0     ARMY   Oct. 21, 2022  \n",
              "1     ARMY   Oct. 21, 2022  \n",
              "2     NAVY   Oct. 21, 2022  \n",
              "3     NAVY   Oct. 21, 2022  \n",
              "4     NAVY   Oct. 21, 2022  "
            ],
            "text/html": [
              "\n",
              "  <div id=\"df-ec95ddb2-7f48-4d7e-a74c-c7433b87a355\">\n",
              "    <div class=\"colab-df-container\">\n",
              "      <div>\n",
              "<style scoped>\n",
              "    .dataframe tbody tr th:only-of-type {\n",
              "        vertical-align: middle;\n",
              "    }\n",
              "\n",
              "    .dataframe tbody tr th {\n",
              "        vertical-align: top;\n",
              "    }\n",
              "\n",
              "    .dataframe thead th {\n",
              "        text-align: right;\n",
              "    }\n",
              "</style>\n",
              "<table border=\"1\" class=\"dataframe\">\n",
              "  <thead>\n",
              "    <tr style=\"text-align: right;\">\n",
              "      <th></th>\n",
              "      <th>para_id</th>\n",
              "      <th>content</th>\n",
              "      <th>category</th>\n",
              "      <th>publish_date_ap</th>\n",
              "    </tr>\n",
              "  </thead>\n",
              "  <tbody>\n",
              "    <tr>\n",
              "      <th>0</th>\n",
              "      <td>art_3196439_para_1</td>\n",
              "      <td>Engineering Research and Consulting Inc., Hunt...</td>\n",
              "      <td>ARMY</td>\n",
              "      <td>Oct. 21, 2022</td>\n",
              "    </tr>\n",
              "    <tr>\n",
              "      <th>1</th>\n",
              "      <td>art_3196439_para_2</td>\n",
              "      <td>Lockheed Martin Corp., Grand Prairie, Texas, w...</td>\n",
              "      <td>ARMY</td>\n",
              "      <td>Oct. 21, 2022</td>\n",
              "    </tr>\n",
              "    <tr>\n",
              "      <th>2</th>\n",
              "      <td>art_3196439_para_3</td>\n",
              "      <td>Northrop Grumman Systems Corp., doing business...</td>\n",
              "      <td>NAVY</td>\n",
              "      <td>Oct. 21, 2022</td>\n",
              "    </tr>\n",
              "    <tr>\n",
              "      <th>3</th>\n",
              "      <td>art_3196439_para_4</td>\n",
              "      <td>Lockheed Martin Aeronautics Co., Fort Worth, T...</td>\n",
              "      <td>NAVY</td>\n",
              "      <td>Oct. 21, 2022</td>\n",
              "    </tr>\n",
              "    <tr>\n",
              "      <th>4</th>\n",
              "      <td>art_3196439_para_5</td>\n",
              "      <td>Lockheed Martin Corp., Fort Worth, Texas, is a...</td>\n",
              "      <td>NAVY</td>\n",
              "      <td>Oct. 21, 2022</td>\n",
              "    </tr>\n",
              "  </tbody>\n",
              "</table>\n",
              "</div>\n",
              "      <button class=\"colab-df-convert\" onclick=\"convertToInteractive('df-ec95ddb2-7f48-4d7e-a74c-c7433b87a355')\"\n",
              "              title=\"Convert this dataframe to an interactive table.\"\n",
              "              style=\"display:none;\">\n",
              "        \n",
              "  <svg xmlns=\"http://www.w3.org/2000/svg\" height=\"24px\"viewBox=\"0 0 24 24\"\n",
              "       width=\"24px\">\n",
              "    <path d=\"M0 0h24v24H0V0z\" fill=\"none\"/>\n",
              "    <path d=\"M18.56 5.44l.94 2.06.94-2.06 2.06-.94-2.06-.94-.94-2.06-.94 2.06-2.06.94zm-11 1L8.5 8.5l.94-2.06 2.06-.94-2.06-.94L8.5 2.5l-.94 2.06-2.06.94zm10 10l.94 2.06.94-2.06 2.06-.94-2.06-.94-.94-2.06-.94 2.06-2.06.94z\"/><path d=\"M17.41 7.96l-1.37-1.37c-.4-.4-.92-.59-1.43-.59-.52 0-1.04.2-1.43.59L10.3 9.45l-7.72 7.72c-.78.78-.78 2.05 0 2.83L4 21.41c.39.39.9.59 1.41.59.51 0 1.02-.2 1.41-.59l7.78-7.78 2.81-2.81c.8-.78.8-2.07 0-2.86zM5.41 20L4 18.59l7.72-7.72 1.47 1.35L5.41 20z\"/>\n",
              "  </svg>\n",
              "      </button>\n",
              "      \n",
              "  <style>\n",
              "    .colab-df-container {\n",
              "      display:flex;\n",
              "      flex-wrap:wrap;\n",
              "      gap: 12px;\n",
              "    }\n",
              "\n",
              "    .colab-df-convert {\n",
              "      background-color: #E8F0FE;\n",
              "      border: none;\n",
              "      border-radius: 50%;\n",
              "      cursor: pointer;\n",
              "      display: none;\n",
              "      fill: #1967D2;\n",
              "      height: 32px;\n",
              "      padding: 0 0 0 0;\n",
              "      width: 32px;\n",
              "    }\n",
              "\n",
              "    .colab-df-convert:hover {\n",
              "      background-color: #E2EBFA;\n",
              "      box-shadow: 0px 1px 2px rgba(60, 64, 67, 0.3), 0px 1px 3px 1px rgba(60, 64, 67, 0.15);\n",
              "      fill: #174EA6;\n",
              "    }\n",
              "\n",
              "    [theme=dark] .colab-df-convert {\n",
              "      background-color: #3B4455;\n",
              "      fill: #D2E3FC;\n",
              "    }\n",
              "\n",
              "    [theme=dark] .colab-df-convert:hover {\n",
              "      background-color: #434B5C;\n",
              "      box-shadow: 0px 1px 3px 1px rgba(0, 0, 0, 0.15);\n",
              "      filter: drop-shadow(0px 1px 2px rgba(0, 0, 0, 0.3));\n",
              "      fill: #FFFFFF;\n",
              "    }\n",
              "  </style>\n",
              "\n",
              "      <script>\n",
              "        const buttonEl =\n",
              "          document.querySelector('#df-ec95ddb2-7f48-4d7e-a74c-c7433b87a355 button.colab-df-convert');\n",
              "        buttonEl.style.display =\n",
              "          google.colab.kernel.accessAllowed ? 'block' : 'none';\n",
              "\n",
              "        async function convertToInteractive(key) {\n",
              "          const element = document.querySelector('#df-ec95ddb2-7f48-4d7e-a74c-c7433b87a355');\n",
              "          const dataTable =\n",
              "            await google.colab.kernel.invokeFunction('convertToInteractive',\n",
              "                                                     [key], {});\n",
              "          if (!dataTable) return;\n",
              "\n",
              "          const docLinkHtml = 'Like what you see? Visit the ' +\n",
              "            '<a target=\"_blank\" href=https://colab.research.google.com/notebooks/data_table.ipynb>data table notebook</a>'\n",
              "            + ' to learn more about interactive tables.';\n",
              "          element.innerHTML = '';\n",
              "          dataTable['output_type'] = 'display_data';\n",
              "          await google.colab.output.renderOutput(dataTable, element);\n",
              "          const docLink = document.createElement('div');\n",
              "          docLink.innerHTML = docLinkHtml;\n",
              "          element.appendChild(docLink);\n",
              "        }\n",
              "      </script>\n",
              "    </div>\n",
              "  </div>\n",
              "  "
            ]
          },
          "metadata": {},
          "execution_count": 13
        }
      ]
    },
    {
      "cell_type": "code",
      "source": [
        "df.iloc[0,1]"
      ],
      "metadata": {
        "colab": {
          "base_uri": "https://localhost:8080/",
          "height": 70
        },
        "id": "EnRQKXgLp2oJ",
        "outputId": "b31723b8-99ac-44fc-9461-671bda7abc87"
      },
      "execution_count": 14,
      "outputs": [
        {
          "output_type": "execute_result",
          "data": {
            "text/plain": [
              "'Engineering Research and Consulting Inc., Huntsville, Alabama, was awarded a $640,512,703 cost-plus-fixed-fee contract to support planning, conducting, analyzing and reporting the results of developmental tests, production tests and other tests conducted by the U.S. Army Aberdeen Test Center. Bids were solicited via the internet with three received. Work locations and funding will be determined with each order, with an estimated completion date of Oct. 20, 2027. U.S. Army Contracting Command, Aberdeen Proving Ground, Maryland, is the contracting activity (W91CRB-23-D-0001).'"
            ],
            "application/vnd.google.colaboratory.intrinsic+json": {
              "type": "string"
            }
          },
          "metadata": {},
          "execution_count": 14
        }
      ]
    },
    {
      "cell_type": "code",
      "source": [
        "df.iloc[1,1]"
      ],
      "metadata": {
        "colab": {
          "base_uri": "https://localhost:8080/",
          "height": 53
        },
        "id": "HLL9xx3PqjMK",
        "outputId": "b2762cc5-30cb-4056-8d29-5fe2f369c2e4"
      },
      "execution_count": 15,
      "outputs": [
        {
          "output_type": "execute_result",
          "data": {
            "text/plain": [
              "'Lockheed Martin Corp., Grand Prairie, Texas, was awarded a $476,814,000 hybrid (cost-plus-fixed-fee and firm-fixed-price) contract for the Guided Multiple Launch Rocket System. Bids were solicited via the internet with one received. Work locations and funding will be determined with each order, with an estimated completion date of Aug. 15, 2025. U.S. Army Contracting Command, Redstone Arsenal, Alabama, is the contracting activity (W31P4Q-23-D-0003).'"
            ],
            "application/vnd.google.colaboratory.intrinsic+json": {
              "type": "string"
            }
          },
          "metadata": {},
          "execution_count": 15
        }
      ]
    },
    {
      "cell_type": "code",
      "source": [
        "set(df.iloc[:,2])"
      ],
      "metadata": {
        "colab": {
          "base_uri": "https://localhost:8080/"
        },
        "id": "a4D3tyI6snuG",
        "outputId": "a0cdcc12-4310-4fdb-97ef-748cdb129c2b"
      },
      "execution_count": 16,
      "outputs": [
        {
          "output_type": "execute_result",
          "data": {
            "text/plain": [
              "{'AIR FORCE',\n",
              " 'AIR FORCE\\xa0',\n",
              " 'ARMY',\n",
              " 'ARMY\\xa0',\n",
              " 'Air Force',\n",
              " 'Army',\n",
              " 'DEFENSE ADVANCED RESEARCH PROJECTS AGENCY',\n",
              " 'DEFENSE COMMISSARY AGENCY',\n",
              " 'DEFENSE COUNTERINTELLIGENCE AND SECURITY AGENCY',\n",
              " 'DEFENSE COUNTERINTELLIGENCE SECURITY AGENCY',\n",
              " 'DEFENSE FINANCE AND ACCOUNTING SERVICE',\n",
              " 'DEFENSE HEALTH AGENCY',\n",
              " 'DEFENSE HUMAN RESOURCES ACTIVITY',\n",
              " 'DEFENSE INFORMATION SYSTEMS AGENCY',\n",
              " 'DEFENSE INTELLIGENCE AGENCY',\n",
              " 'DEFENSE LOGISTICS AGENCY',\n",
              " 'DEFENSE LOGISTICS AGENCY\\xa0',\n",
              " 'DEFENSE THREAT REDUCTION AGENCY',\n",
              " 'DEPARTMENT OF DEFENSE EDUCATION ACTIVITY',\n",
              " 'Defense Health Agency',\n",
              " 'Defense Logistics Agency',\n",
              " 'MISSILE DEFENSE AGENCY',\n",
              " 'MISSLE DEFENSE AGENCY',\n",
              " 'NAVY',\n",
              " 'Navy',\n",
              " 'SPACE DEVELOPMENT AGENCY',\n",
              " 'U.S. SPECIAL OPERATIONS COMMAND',\n",
              " 'U.S. Special Operations Command',\n",
              " 'U.S. TRANSPORTATION COMMAND',\n",
              " 'UNIFORMED SERVICES UNIVERSITY OF THE HEALTH SCIENCES',\n",
              " 'WASHINGTON HEADQUARTERS AGENCY',\n",
              " 'WASHINGTON HEADQUARTERS SERVICE',\n",
              " 'WASHINGTON HEADQUARTERS SERVICES'}"
            ]
          },
          "metadata": {},
          "execution_count": 16
        }
      ]
    },
    {
      "cell_type": "code",
      "source": [
        "set(df.iloc[:,3])"
      ],
      "metadata": {
        "colab": {
          "base_uri": "https://localhost:8080/"
        },
        "id": "Wkc5ZWKZv0-r",
        "outputId": "de2e367e-8b2c-4678-98b6-859c34101138"
      },
      "execution_count": 17,
      "outputs": [
        {
          "output_type": "execute_result",
          "data": {
            "text/plain": [
              "{'April 1, 2022',\n",
              " 'April 11, 2022',\n",
              " 'April 12, 2022',\n",
              " 'April 13, 2022',\n",
              " 'April 14, 2022',\n",
              " 'April 15, 2022',\n",
              " 'April 18, 2022',\n",
              " 'April 19, 2022',\n",
              " 'April 20, 2022',\n",
              " 'April 21, 2022',\n",
              " 'April 22, 2022',\n",
              " 'April 25, 2022',\n",
              " 'April 26, 2022',\n",
              " 'April 27, 2022',\n",
              " 'April 28, 2022',\n",
              " 'April 29, 2022',\n",
              " 'April 4, 2022',\n",
              " 'April 5, 2022',\n",
              " 'April 6, 2022',\n",
              " 'April 7, 2022',\n",
              " 'April 8, 2022',\n",
              " 'Aug. 1, 2022',\n",
              " 'Aug. 10, 2022',\n",
              " 'Aug. 11, 2022',\n",
              " 'Aug. 12, 2022',\n",
              " 'Aug. 15, 2022',\n",
              " 'Aug. 16, 2022',\n",
              " 'Aug. 17, 2022',\n",
              " 'Aug. 18, 2022',\n",
              " 'Aug. 19, 2022',\n",
              " 'Aug. 2, 2022',\n",
              " 'Aug. 22, 2022',\n",
              " 'Aug. 23, 2022',\n",
              " 'Aug. 24, 2022',\n",
              " 'Aug. 25, 2021',\n",
              " 'Aug. 25, 2022',\n",
              " 'Aug. 26, 2021',\n",
              " 'Aug. 26, 2022',\n",
              " 'Aug. 27, 2021',\n",
              " 'Aug. 29, 2022',\n",
              " 'Aug. 3, 2022',\n",
              " 'Aug. 30, 2021',\n",
              " 'Aug. 30, 2022',\n",
              " 'Aug. 31, 2021',\n",
              " 'Aug. 31, 2022',\n",
              " 'Aug. 4, 2022',\n",
              " 'Aug. 5, 2022',\n",
              " 'Aug. 8, 2022',\n",
              " 'Aug. 9, 2022',\n",
              " 'Dec. 1, 2021',\n",
              " 'Dec. 10, 2021',\n",
              " 'Dec. 13, 2021',\n",
              " 'Dec. 14, 2021',\n",
              " 'Dec. 15, 2021',\n",
              " 'Dec. 16, 2021',\n",
              " 'Dec. 17, 2021',\n",
              " 'Dec. 2, 2021',\n",
              " 'Dec. 20, 2021',\n",
              " 'Dec. 21, 2021',\n",
              " 'Dec. 22, 2021',\n",
              " 'Dec. 23, 2021',\n",
              " 'Dec. 27, 2021',\n",
              " 'Dec. 28, 2021',\n",
              " 'Dec. 29, 2021',\n",
              " 'Dec. 3, 2021',\n",
              " 'Dec. 30, 2021',\n",
              " 'Dec. 6, 2021',\n",
              " 'Dec. 7, 2021',\n",
              " 'Dec. 8, 2021',\n",
              " 'Dec. 9, 2021',\n",
              " 'Feb. 1, 2022',\n",
              " 'Feb. 10, 2022',\n",
              " 'Feb. 11, 2022',\n",
              " 'Feb. 14, 2022',\n",
              " 'Feb. 15, 2022',\n",
              " 'Feb. 16, 2022',\n",
              " 'Feb. 17, 2022',\n",
              " 'Feb. 18, 2022',\n",
              " 'Feb. 2, 2022',\n",
              " 'Feb. 22, 2022',\n",
              " 'Feb. 23, 2022',\n",
              " 'Feb. 24, 2022',\n",
              " 'Feb. 25, 2022',\n",
              " 'Feb. 28, 2022',\n",
              " 'Feb. 3, 2022',\n",
              " 'Feb. 4, 2022',\n",
              " 'Feb. 7, 2022',\n",
              " 'Feb. 8, 2022',\n",
              " 'Feb. 9, 2022',\n",
              " 'Jan. 10, 2022',\n",
              " 'Jan. 11, 2022',\n",
              " 'Jan. 12, 2022',\n",
              " 'Jan. 13, 2022',\n",
              " 'Jan. 14, 2022',\n",
              " 'Jan. 18, 2022',\n",
              " 'Jan. 19, 2022',\n",
              " 'Jan. 20, 2022',\n",
              " 'Jan. 21, 2022',\n",
              " 'Jan. 24, 2022',\n",
              " 'Jan. 25, 2022',\n",
              " 'Jan. 26, 2022',\n",
              " 'Jan. 27, 2022',\n",
              " 'Jan. 28, 2022',\n",
              " 'Jan. 3, 2022',\n",
              " 'Jan. 31, 2022',\n",
              " 'Jan. 4, 2022',\n",
              " 'Jan. 5, 2022',\n",
              " 'Jan. 6, 2022',\n",
              " 'Jan. 7, 2022',\n",
              " 'July 1, 2022',\n",
              " 'July 11, 2022',\n",
              " 'July 12, 2022',\n",
              " 'July 13, 2022',\n",
              " 'July 14, 2022',\n",
              " 'July 15, 2022',\n",
              " 'July 18, 2022',\n",
              " 'July 19, 2022',\n",
              " 'July 20, 2022',\n",
              " 'July 21, 2022',\n",
              " 'July 22, 2022',\n",
              " 'July 25, 2022',\n",
              " 'July 26, 2022',\n",
              " 'July 27, 2022',\n",
              " 'July 28, 2022',\n",
              " 'July 29, 2022',\n",
              " 'July 5, 2022',\n",
              " 'July 6, 2022',\n",
              " 'July 7, 2022',\n",
              " 'July 8, 2022',\n",
              " 'June 1, 2022',\n",
              " 'June 10, 2022',\n",
              " 'June 13, 2022',\n",
              " 'June 14, 2022',\n",
              " 'June 15, 2022',\n",
              " 'June 16, 2022',\n",
              " 'June 17, 2022',\n",
              " 'June 2, 2022',\n",
              " 'June 21, 2022',\n",
              " 'June 22, 2022',\n",
              " 'June 23, 2022',\n",
              " 'June 24, 2022',\n",
              " 'June 27, 2022',\n",
              " 'June 28, 2022',\n",
              " 'June 29, 2022',\n",
              " 'June 3, 2022',\n",
              " 'June 30, 2022',\n",
              " 'June 6, 2022',\n",
              " 'June 7, 2022',\n",
              " 'June 8, 2022',\n",
              " 'June 9, 2022',\n",
              " 'March 1, 2022',\n",
              " 'March 10, 2022',\n",
              " 'March 11, 2022',\n",
              " 'March 14, 2022',\n",
              " 'March 15, 2022',\n",
              " 'March 16, 2022',\n",
              " 'March 17, 2022',\n",
              " 'March 18, 2022',\n",
              " 'March 2, 2022',\n",
              " 'March 21, 2022',\n",
              " 'March 22, 2022',\n",
              " 'March 23, 2022',\n",
              " 'March 24, 2022',\n",
              " 'March 25, 2022',\n",
              " 'March 28, 2022',\n",
              " 'March 29, 2022',\n",
              " 'March 3, 2022',\n",
              " 'March 30, 2022',\n",
              " 'March 31, 2022',\n",
              " 'March 4, 2022',\n",
              " 'March 7, 2022',\n",
              " 'March 8, 2022',\n",
              " 'March 9, 2022',\n",
              " 'May 10, 2022',\n",
              " 'May 11, 2022',\n",
              " 'May 12, 2022',\n",
              " 'May 13, 2022',\n",
              " 'May 16, 2022',\n",
              " 'May 17, 2022',\n",
              " 'May 18, 2022',\n",
              " 'May 19, 2022',\n",
              " 'May 2, 2022',\n",
              " 'May 20, 2022',\n",
              " 'May 23, 2022',\n",
              " 'May 24, 2022',\n",
              " 'May 25, 2022',\n",
              " 'May 26, 2022',\n",
              " 'May 27, 2022',\n",
              " 'May 3, 2022',\n",
              " 'May 31, 2022',\n",
              " 'May 4, 2022',\n",
              " 'May 5, 2022',\n",
              " 'May 6, 2022',\n",
              " 'May 9, 2022',\n",
              " 'Nov. 1, 2021',\n",
              " 'Nov. 10, 2021',\n",
              " 'Nov. 12, 2021',\n",
              " 'Nov. 15, 2021',\n",
              " 'Nov. 16, 2021',\n",
              " 'Nov. 17, 2021',\n",
              " 'Nov. 18, 2021',\n",
              " 'Nov. 19, 2021',\n",
              " 'Nov. 2, 2021',\n",
              " 'Nov. 22, 2021',\n",
              " 'Nov. 23, 2021',\n",
              " 'Nov. 24, 2021',\n",
              " 'Nov. 26, 2021',\n",
              " 'Nov. 29, 2021',\n",
              " 'Nov. 3, 2021',\n",
              " 'Nov. 30, 2021',\n",
              " 'Nov. 4, 2021',\n",
              " 'Nov. 5, 2021',\n",
              " 'Nov. 8, 2021',\n",
              " 'Nov. 9, 2021',\n",
              " 'Oct. 1, 2021',\n",
              " 'Oct. 11, 2022',\n",
              " 'Oct. 12, 2021',\n",
              " 'Oct. 12, 2022',\n",
              " 'Oct. 13, 2021',\n",
              " 'Oct. 13, 2022',\n",
              " 'Oct. 14, 2021',\n",
              " 'Oct. 14, 2022',\n",
              " 'Oct. 15, 2021',\n",
              " 'Oct. 17, 2022',\n",
              " 'Oct. 18, 2021',\n",
              " 'Oct. 18, 2022',\n",
              " 'Oct. 19, 2021',\n",
              " 'Oct. 19, 2022',\n",
              " 'Oct. 20, 2021',\n",
              " 'Oct. 20, 2022',\n",
              " 'Oct. 21, 2021',\n",
              " 'Oct. 21, 2022',\n",
              " 'Oct. 22, 2021',\n",
              " 'Oct. 25, 2021',\n",
              " 'Oct. 26, 2021',\n",
              " 'Oct. 27, 2021',\n",
              " 'Oct. 28, 2021',\n",
              " 'Oct. 29, 2021',\n",
              " 'Oct. 3, 2022',\n",
              " 'Oct. 4, 2021',\n",
              " 'Oct. 4, 2022',\n",
              " 'Oct. 5, 2021',\n",
              " 'Oct. 5, 2022',\n",
              " 'Oct. 6, 2021',\n",
              " 'Oct. 6, 2022',\n",
              " 'Oct. 7, 2021',\n",
              " 'Oct. 7, 2022',\n",
              " 'Oct. 8, 2021',\n",
              " 'Sept. 1, 2021',\n",
              " 'Sept. 1, 2022',\n",
              " 'Sept. 10, 2021',\n",
              " 'Sept. 12, 2022',\n",
              " 'Sept. 13, 2021',\n",
              " 'Sept. 13, 2022',\n",
              " 'Sept. 14, 2021',\n",
              " 'Sept. 14, 2022',\n",
              " 'Sept. 15, 2021',\n",
              " 'Sept. 15, 2022',\n",
              " 'Sept. 16, 2021',\n",
              " 'Sept. 16, 2022',\n",
              " 'Sept. 17, 2021',\n",
              " 'Sept. 19, 2022',\n",
              " 'Sept. 2, 2021',\n",
              " 'Sept. 2, 2022',\n",
              " 'Sept. 20, 2021',\n",
              " 'Sept. 20, 2022',\n",
              " 'Sept. 21, 2021',\n",
              " 'Sept. 21, 2022',\n",
              " 'Sept. 22, 2021',\n",
              " 'Sept. 22, 2022',\n",
              " 'Sept. 23, 2021',\n",
              " 'Sept. 23, 2022',\n",
              " 'Sept. 24, 2021',\n",
              " 'Sept. 26, 2022',\n",
              " 'Sept. 27, 2021',\n",
              " 'Sept. 27, 2022',\n",
              " 'Sept. 28, 2021',\n",
              " 'Sept. 28, 2022',\n",
              " 'Sept. 29, 2021',\n",
              " 'Sept. 29, 2022',\n",
              " 'Sept. 3, 2021',\n",
              " 'Sept. 30, 2021',\n",
              " 'Sept. 30, 2022',\n",
              " 'Sept. 6, 2022',\n",
              " 'Sept. 7, 2021',\n",
              " 'Sept. 7, 2022',\n",
              " 'Sept. 8, 2021',\n",
              " 'Sept. 8, 2022',\n",
              " 'Sept. 9, 2021',\n",
              " 'Sept. 9, 2022'}"
            ]
          },
          "metadata": {},
          "execution_count": 17
        }
      ]
    },
    {
      "cell_type": "markdown",
      "source": [],
      "metadata": {
        "id": "qYVMX3P433Kp"
      }
    }
  ]
}