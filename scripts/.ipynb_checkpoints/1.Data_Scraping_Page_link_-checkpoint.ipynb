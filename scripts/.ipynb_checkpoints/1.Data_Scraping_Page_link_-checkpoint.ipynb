{
 "cells": [
  {
   "cell_type": "markdown",
   "metadata": {
    "colab_type": "text",
    "id": "view-in-github"
   },
   "source": [
    "<a href=\"https://colab.research.google.com/github/leonasting/NLP-Devcon/blob/main/Data_Scraping_Page_link_.ipynb\" target=\"_parent\"><img src=\"https://colab.research.google.com/assets/colab-badge.svg\" alt=\"Open In Colab\"/></a>"
   ]
  },
  {
   "cell_type": "markdown",
   "metadata": {
    "id": "XJKm-GJGxAAc"
   },
   "source": [
    "# Data Scraping Script"
   ]
  },
  {
   "cell_type": "markdown",
   "metadata": {},
   "source": [
    "This script is used for data scraping from the multiple pages of url patter https://www.defense.gov/News/Contracts/?Page=1 .\n",
    "It exports the web scrapped data into two file formats JSON: data/data_main.json and CSV (data/data_url.csv)\n",
    "Please run this script from root directory."
   ]
  },
  {
   "cell_type": "markdown",
   "metadata": {
    "id": "OfX4acJ1o-AI"
   },
   "source": [
    "### Importing Libraries"
   ]
  },
  {
   "cell_type": "code",
   "execution_count": 1,
   "metadata": {
    "id": "2myF7LEjxB-H"
   },
   "outputs": [],
   "source": [
    "import requests\n",
    "import re\n",
    "import pandas as pd\n",
    "from bs4 import BeautifulSoup"
   ]
  },
  {
   "cell_type": "markdown",
   "metadata": {
    "id": "fGJnQTzXzQlo"
   },
   "source": [
    "### Functions for  data extraction."
   ]
  },
  {
   "cell_type": "code",
   "execution_count": 3,
   "metadata": {
    "id": "HT_Zyme32-_1"
   },
   "outputs": [],
   "source": [
    "def get_url_content(url_temp):\n",
    "  \"\"\"\n",
    "  takes the querry for url with page id and returns list of url \n",
    "  \"\"\"\n",
    "  try:\n",
    "    page = requests.get(url_temp)\n",
    "    soup = BeautifulSoup(page.text, 'html.parser')\n",
    "    assert soup is not None,\"unable to retrieve data.\"\n",
    "    ls_a=soup.findAll(\"listing-titles-only\")\n",
    "    ls_url = [[ind_element[\"article-url\"],ind_element[\"publish-date-ap\"]] for ind_element in ls_a]\n",
    "    return [ls_url,\"Successful in retrieving:\"+str(len(ls_url))+\" urls\"]\n",
    "  except AssertionError as msg:\n",
    "    return  [[],msg]\n",
    "  except:\n",
    "    return [[],\"other error\"]\n",
    "\n"
   ]
  },
  {
   "cell_type": "code",
   "execution_count": 6,
   "metadata": {
    "id": "v1cqKNgA3-gt"
   },
   "outputs": [],
   "source": [
    "def get_content(link_url,publish_date_ap,page_id=None):\n",
    "    \"\"\"\n",
    "    content is extracted and whole extracted code is put into list of dictionaries\n",
    "    returns list of extraxted content\n",
    "    \"\"\"\n",
    "    \n",
    "    link_page = requests.get(link_url)\n",
    "    soup = BeautifulSoup(link_page.text, 'html.parser')\n",
    "    assert soup is not None,\"unable to retrieve data from url.\"\n",
    "    div_content=soup.find(\"div\", {\"class\":\"body\"})\n",
    "    assert div_content is not None,\"missing body division\"\n",
    "    ls_p = div_content.findAll(\"p\")\n",
    "    assert ls_p is not None,\"missing paragraphs in body division\"\n",
    "    link_url_art_id=link_url.split('/')[-2]\n",
    "    #page=page_id\n",
    "    counter=1\n",
    "    cat=\"\"\n",
    "    ls_content = []\n",
    "    for ind_p in ls_p:\n",
    "        strong_element = ind_p.find(\"strong\")\n",
    "        if strong_element:\n",
    "          cat=strong_element.text\n",
    "        else:\n",
    "          ls_content.append({\"para_id\":\"art_\"+link_url_art_id+\"_para_\"+str(counter),\n",
    "                            \"content\":ind_p.text,\n",
    "                            \"category\":cat,\n",
    "                            \"publish_date_ap\":publish_date_ap\n",
    "                              })\n",
    "          counter+=1\n",
    "    return ls_content \n",
    "\n",
    "  \n",
    "\n"
   ]
  },
  {
   "cell_type": "code",
   "execution_count": 8,
   "metadata": {
    "colab": {
     "base_uri": "https://localhost:8080/"
    },
    "id": "NFLkPSVYs19L",
    "outputId": "58b23951-9a56-4db3-a158-83c9c6dc67e8"
   },
   "outputs": [
    {
     "data": {
      "text/plain": [
       "['http://www.defense.gov/News/Contracts/Contract/Article/3175072/',\n",
       " 'Sept. 29, 2022']"
      ]
     },
     "execution_count": 8,
     "metadata": {},
     "output_type": "execute_result"
    }
   ],
   "source": [
    "#ls_url[0]\n",
    "['http://www.defense.gov/News/Contracts/Contract/Article/3175072/',\n",
    " 'Sept. 29, 2022']\n",
    " #link_data = requests.get(ls_url[0][0])\n",
    "\n",
    "#publish_date_ap= ls_url[0][1]"
   ]
  },
  {
   "cell_type": "markdown",
   "metadata": {},
   "source": [
    "## Running on 11/22/2022"
   ]
  },
  {
   "cell_type": "code",
   "execution_count": 10,
   "metadata": {
    "colab": {
     "base_uri": "https://localhost:8080/"
    },
    "id": "IJl5V9u3tPpx",
    "outputId": "3adee7e0-5eef-4152-d571-7f0ffb5f9977",
    "scrolled": true,
    "tags": []
   },
   "outputs": [
    {
     "name": "stdout",
     "output_type": "stream",
     "text": [
      "Sample link_url: http://www.defense.gov/News/Contracts/Contract/Article/3226621/\n",
      "Sample link_url publish date: Nov. 22, 2022\n",
      "Page id:1 Successful in retrieving:10 urls\n",
      "Sample link_url: http://www.defense.gov/News/Contracts/Contract/Article/3211815/\n",
      "Sample link_url publish date: Nov. 7, 2022\n",
      "Page id:2 Successful in retrieving:10 urls\n",
      "Sample link_url: http://www.defense.gov/News/Contracts/Contract/Article/3198058/\n",
      "Sample link_url publish date: Oct. 24, 2022\n",
      "Page id:3 Successful in retrieving:10 urls\n",
      "Sample link_url: http://www.defense.gov/News/Contracts/Contract/Article/3183579/\n",
      "Sample link_url publish date: Oct. 7, 2022\n",
      "Page id:4 Successful in retrieving:10 urls\n",
      "Sample link_url: http://www.defense.gov/News/Contracts/Contract/Article/3169379/\n",
      "Sample link_url publish date: Sept. 23, 2022\n",
      "Page id:5 Successful in retrieving:10 urls\n",
      "Sample link_url: http://www.defense.gov/News/Contracts/Contract/Article/3154083/\n",
      "Sample link_url publish date: Sept. 9, 2022\n",
      "Page id:6 Successful in retrieving:10 urls\n",
      "Sample link_url: http://www.defense.gov/News/Contracts/Contract/Article/3140102/\n",
      "Sample link_url publish date: Aug. 25, 2022\n",
      "Page id:7 Successful in retrieving:10 urls\n",
      "Sample link_url: http://www.defense.gov/News/Contracts/Contract/Article/3125043/\n",
      "Sample link_url publish date: Aug. 11, 2022\n",
      "Page id:8 Successful in retrieving:10 urls\n",
      "Sample link_url: http://www.defense.gov/News/Contracts/Contract/Article/3109346/\n",
      "Sample link_url publish date: July 28, 2022\n",
      "Page id:9 Successful in retrieving:10 urls\n",
      "Sample link_url: http://www.defense.gov/News/Contracts/Contract/Article/3093802/\n",
      "Sample link_url publish date: July 14, 2022\n",
      "Page id:10 Successful in retrieving:10 urls\n",
      "Sample link_url: http://www.defense.gov/News/Contracts/Contract/Article/3079272/\n",
      "Sample link_url publish date: June 29, 2022\n",
      "Page id:11 Successful in retrieving:10 urls\n",
      "Sample link_url: http://www.defense.gov/News/Contracts/Contract/Article/3063103/\n",
      "Sample link_url publish date: June 14, 2022\n",
      "Page id:12 Successful in retrieving:10 urls\n",
      "Sample link_url: http://www.defense.gov/News/Contracts/Contract/Article/3048409/\n",
      "Sample link_url publish date: May 31, 2022\n",
      "Page id:13 Successful in retrieving:10 urls\n",
      "Sample link_url: http://www.defense.gov/News/Contracts/Contract/Article/3033240/\n",
      "Sample link_url publish date: May 16, 2022\n",
      "Page id:14 Successful in retrieving:10 urls\n",
      "Sample link_url: http://www.defense.gov/News/Contracts/Contract/Article/3016939/\n",
      "Sample link_url publish date: May 2, 2022\n",
      "Page id:15 Successful in retrieving:10 urls\n",
      "Sample link_url: http://www.defense.gov/News/Contracts/Contract/Article/3002680/\n",
      "Sample link_url publish date: April 18, 2022\n",
      "Page id:16 Successful in retrieving:10 urls\n",
      "Sample link_url: http://www.defense.gov/News/Contracts/Contract/Article/2988684/\n",
      "Sample link_url publish date: April 4, 2022\n",
      "Page id:17 Successful in retrieving:10 urls\n",
      "Sample link_url: http://www.defense.gov/News/Contracts/Contract/Article/2973219/\n",
      "Sample link_url publish date: March 21, 2022\n",
      "Page id:18 Successful in retrieving:10 urls\n",
      "Sample link_url: http://www.defense.gov/News/Contracts/Contract/Article/2958125/\n",
      "Sample link_url publish date: March 7, 2022\n",
      "Page id:19 Successful in retrieving:10 urls\n",
      "Sample link_url: http://www.defense.gov/News/Contracts/Contract/Article/2940992/\n",
      "Sample link_url publish date: Feb. 18, 2022\n",
      "Page id:20 Successful in retrieving:10 urls\n",
      "Sample link_url: http://www.defense.gov/News/Contracts/Contract/Article/2924452/\n",
      "Sample link_url publish date: Feb. 4, 2022\n",
      "Page id:21 Successful in retrieving:10 urls\n",
      "Sample link_url: http://www.defense.gov/News/Contracts/Contract/Article/2907867/\n",
      "Sample link_url publish date: Jan. 21, 2022\n",
      "Page id:22 Successful in retrieving:10 urls\n",
      "Sample link_url: http://www.defense.gov/News/Contracts/Contract/Article/2891105/\n",
      "Sample link_url publish date: Jan. 6, 2022\n",
      "Page id:23 Successful in retrieving:10 urls\n",
      "Sample link_url: http://www.defense.gov/News/Contracts/Contract/Article/2881533/\n",
      "Sample link_url publish date: Dec. 21, 2021\n",
      "Page id:24 Successful in retrieving:10 urls\n",
      "Sample link_url: http://www.defense.gov/News/Contracts/Contract/Article/2865060/\n",
      "Sample link_url publish date: Dec. 7, 2021\n",
      "Page id:25 Successful in retrieving:10 urls\n",
      "Sample link_url: http://www.defense.gov/News/Contracts/Contract/Article/2851450/\n",
      "Sample link_url publish date: Nov. 22, 2021\n",
      "Page id:26 Successful in retrieving:10 urls\n",
      "Sample link_url: http://www.defense.gov/News/Contracts/Contract/Article/2835747/\n",
      "Sample link_url publish date: Nov. 5, 2021\n",
      "Page id:27 Successful in retrieving:10 urls\n",
      "Sample link_url: http://www.defense.gov/News/Contracts/Contract/Article/2820446/\n",
      "Sample link_url publish date: Oct. 22, 2021\n",
      "Page id:28 Successful in retrieving:10 urls\n",
      "Sample link_url: http://www.defense.gov/News/Contracts/Contract/Article/2805113/\n",
      "Sample link_url publish date: Oct. 7, 2021\n",
      "Page id:29 Successful in retrieving:10 urls\n",
      "Sample link_url: http://www.defense.gov/News/Contracts/Contract/Article/2786993/\n",
      "Sample link_url publish date: Sept. 23, 2021\n",
      "Page id:30 Successful in retrieving:10 urls\n"
     ]
    }
   ],
   "source": [
    "base_url=\"https://www.defense.gov/News/Contracts/?Page=\"\n",
    "ls_main_content =[]\n",
    "url_count=0\n",
    "for i in range(1,31):\n",
    "  #page_id=2*i\n",
    "  page_id=i\n",
    "  url_temp = base_url+str(page_id)\n",
    "  ls_url, response = get_url_content(url_temp)  \n",
    "  \n",
    "  print(\"Sample link_url:\",ls_url[0][0])\n",
    "  print(\"Sample link_url publish date:\",ls_url[0][1])\n",
    "  if \"Successful\" in response:\n",
    "    print(\"Page id:\"+str(page_id)+\" \"+response)\n",
    "  else:\n",
    "    print(\"Page id:\"+str(page_id)+\" \"+response)\n",
    "    continue\n",
    "  url_count+=len(ls_url)\n",
    "  # link handling block\n",
    "  for link_url, publish_date_ap in ls_url:\n",
    "    try:\n",
    "      ls_content = get_content(link_url,publish_date_ap,page_id)    \n",
    "    except AssertionError as msg:\n",
    "      print(link_url,\"\\n Response\",msg)\n",
    "      continue\n",
    "    except:\n",
    "      print(link_url,\"\\n Response\")\n",
    "      print(\"Failed with Unknown error while reteiving url link content.\")\n",
    "      continue\n",
    "    if ls_content:\n",
    "      ls_main_content.extend(ls_content)\n"
   ]
  },
  {
   "cell_type": "code",
   "execution_count": 13,
   "metadata": {
    "colab": {
     "base_uri": "https://localhost:8080/"
    },
    "id": "-paLfTzK04-G",
    "outputId": "2d02f49c-d410-4f38-e5f6-ee7b5165e13d"
   },
   "outputs": [
    {
     "name": "stdout",
     "output_type": "stream",
     "text": [
      "Total Count of content Extracted from the main webpage 300\n"
     ]
    }
   ],
   "source": [
    "print(\"Total Count of content Extracted from the main webpage\",url_count)"
   ]
  },
  {
   "cell_type": "markdown",
   "metadata": {
    "id": "Dov68aVA05kv"
   },
   "source": [
    "## Understanding the Scraped Data"
   ]
  },
  {
   "cell_type": "code",
   "execution_count": 14,
   "metadata": {
    "colab": {
     "base_uri": "https://localhost:8080/"
    },
    "id": "4VY2GwiT7Rbk",
    "outputId": "24867c8b-1072-41b4-af25-6330b4ab7548"
   },
   "outputs": [
    {
     "name": "stdout",
     "output_type": "stream",
     "text": [
      "Total URL accessed:300\n",
      "Total Contracts accessed:4564\n"
     ]
    }
   ],
   "source": [
    "print(\"Total URL accessed:\"+str(url_count))\n",
    "print(\"Total Contracts accessed:\"+str(len(ls_main_content)))\n"
   ]
  },
  {
   "cell_type": "code",
   "execution_count": 15,
   "metadata": {
    "id": "UZEdDAiWpqh7"
   },
   "outputs": [],
   "source": [
    "df=pd.DataFrame(ls_main_content)"
   ]
  },
  {
   "cell_type": "markdown",
   "metadata": {},
   "source": [
    "## Viewing Data in Data Frame"
   ]
  },
  {
   "cell_type": "code",
   "execution_count": 16,
   "metadata": {
    "colab": {
     "base_uri": "https://localhost:8080/",
     "height": 206
    },
    "id": "OitjrCJXpunk",
    "outputId": "e092fa7b-7817-4662-b4df-47af31e65413"
   },
   "outputs": [
    {
     "data": {
      "text/html": [
       "<div>\n",
       "<style scoped>\n",
       "    .dataframe tbody tr th:only-of-type {\n",
       "        vertical-align: middle;\n",
       "    }\n",
       "\n",
       "    .dataframe tbody tr th {\n",
       "        vertical-align: top;\n",
       "    }\n",
       "\n",
       "    .dataframe thead th {\n",
       "        text-align: right;\n",
       "    }\n",
       "</style>\n",
       "<table border=\"1\" class=\"dataframe\">\n",
       "  <thead>\n",
       "    <tr style=\"text-align: right;\">\n",
       "      <th></th>\n",
       "      <th>para_id</th>\n",
       "      <th>content</th>\n",
       "      <th>category</th>\n",
       "      <th>publish_date_ap</th>\n",
       "    </tr>\n",
       "  </thead>\n",
       "  <tbody>\n",
       "    <tr>\n",
       "      <th>0</th>\n",
       "      <td>art_3226621_para_1</td>\n",
       "      <td>Quidel Corp., San Diego, California (SPE2DE-23...</td>\n",
       "      <td>DEFENSE LOGISTICS AGENCY</td>\n",
       "      <td>Nov. 22, 2022</td>\n",
       "    </tr>\n",
       "    <tr>\n",
       "      <th>1</th>\n",
       "      <td>art_3226621_para_2</td>\n",
       "      <td>Change Healthcare Technologies LLC, Alpharetta...</td>\n",
       "      <td>DEFENSE LOGISTICS AGENCY</td>\n",
       "      <td>Nov. 22, 2022</td>\n",
       "    </tr>\n",
       "    <tr>\n",
       "      <th>2</th>\n",
       "      <td>art_3226621_para_3</td>\n",
       "      <td>Creighton AB Inc., Reidsville, North Carolina,...</td>\n",
       "      <td>DEFENSE LOGISTICS AGENCY</td>\n",
       "      <td>Nov. 22, 2022</td>\n",
       "    </tr>\n",
       "    <tr>\n",
       "      <th>3</th>\n",
       "      <td>art_3226621_para_4</td>\n",
       "      <td>IMT Defense Corporation,* Westerville, Ohio, w...</td>\n",
       "      <td>ARMY</td>\n",
       "      <td>Nov. 22, 2022</td>\n",
       "    </tr>\n",
       "    <tr>\n",
       "      <th>4</th>\n",
       "      <td>art_3226621_para_5</td>\n",
       "      <td>SilverStar Consulting Inc.,* Falls Church, Vir...</td>\n",
       "      <td>ARMY</td>\n",
       "      <td>Nov. 22, 2022</td>\n",
       "    </tr>\n",
       "  </tbody>\n",
       "</table>\n",
       "</div>"
      ],
      "text/plain": [
       "              para_id                                            content  \\\n",
       "0  art_3226621_para_1  Quidel Corp., San Diego, California (SPE2DE-23...   \n",
       "1  art_3226621_para_2  Change Healthcare Technologies LLC, Alpharetta...   \n",
       "2  art_3226621_para_3  Creighton AB Inc., Reidsville, North Carolina,...   \n",
       "3  art_3226621_para_4  IMT Defense Corporation,* Westerville, Ohio, w...   \n",
       "4  art_3226621_para_5  SilverStar Consulting Inc.,* Falls Church, Vir...   \n",
       "\n",
       "                   category publish_date_ap  \n",
       "0  DEFENSE LOGISTICS AGENCY   Nov. 22, 2022  \n",
       "1  DEFENSE LOGISTICS AGENCY   Nov. 22, 2022  \n",
       "2  DEFENSE LOGISTICS AGENCY   Nov. 22, 2022  \n",
       "3                      ARMY   Nov. 22, 2022  \n",
       "4                      ARMY   Nov. 22, 2022  "
      ]
     },
     "execution_count": 16,
     "metadata": {},
     "output_type": "execute_result"
    }
   ],
   "source": [
    "df.head()"
   ]
  },
  {
   "cell_type": "markdown",
   "metadata": {},
   "source": [
    "Content Columns Data"
   ]
  },
  {
   "cell_type": "code",
   "execution_count": 18,
   "metadata": {
    "colab": {
     "base_uri": "https://localhost:8080/",
     "height": 70
    },
    "id": "EnRQKXgLp2oJ",
    "outputId": "b31723b8-99ac-44fc-9461-671bda7abc87"
   },
   "outputs": [
    {
     "data": {
      "text/plain": [
       "'Quidel Corp., San Diego, California (SPE2DE-23-D-0009); Access Bio Inc., Somerset, New Jersey (SPE2DE-23-D-0011); iHealth Labs, Sunnydale, California (SPE2DE-23-D-0012); and Orasure Technologies, Bethlehem, Pennsylvania (SPE2DE-23-D-0010), are sharing a maximum $803,000,000 firm-fixed-price, indefinite-delivery/indefinite-quantity contract under solicitation SPE2DE-22-R-0013 for the procurement of over-the-counter rapid antigen COVID-19 test kits. This was a competitive acquisition with 13 responses received. These are one-year contracts with no option periods. The performance completion date is Nov. 21, 2023. Using customer is Department of Health and Human Services. Type of appropriation is fiscal 2023 defense working capital funds, using funds that were allocated to the Department of Health and Human Services in September 2022. The contracting activity is the Defense Logistics Agency Troop Support, Philadelphia, Pennsylvania.'"
      ]
     },
     "execution_count": 18,
     "metadata": {},
     "output_type": "execute_result"
    }
   ],
   "source": [
    "df.iloc[0,1]"
   ]
  },
  {
   "cell_type": "code",
   "execution_count": 19,
   "metadata": {
    "colab": {
     "base_uri": "https://localhost:8080/",
     "height": 53
    },
    "id": "HLL9xx3PqjMK",
    "outputId": "b2762cc5-30cb-4056-8d29-5fe2f369c2e4"
   },
   "outputs": [
    {
     "data": {
      "text/plain": [
       "'Change Healthcare Technologies LLC, Alpharetta, Georgia, has been awarded a maximum $328,279,472 modification (P00033) exercising the five-year option period of a five-year base contract (SPE2D1-18-D-0006) with one five-year option period for digital imaging network-picture archive communication systems, components, training, maintenance service and incidental services. This is a fixed-price with economic-price-adjustment, indefinite-delivery/indefinite-quantity contract. The ordering period end date is Dec. 14, 2027. Using customers are Army, Navy, Air Force, Marine Corps and federal civilian agencies. Type of appropriation is fiscal 2023 through 2028 defense working capital funds. The contracting activity is the Defense Logistics Agency Troop Support, Philadelphia, Pennsylvania.'"
      ]
     },
     "execution_count": 19,
     "metadata": {},
     "output_type": "execute_result"
    }
   ],
   "source": [
    "df.iloc[1,1]"
   ]
  },
  {
   "cell_type": "code",
   "execution_count": 20,
   "metadata": {
    "colab": {
     "base_uri": "https://localhost:8080/"
    },
    "id": "a4D3tyI6snuG",
    "outputId": "a0cdcc12-4310-4fdb-97ef-748cdb129c2b"
   },
   "outputs": [
    {
     "data": {
      "text/plain": [
       "{'AIR FORCE',\n",
       " 'AIR FORCE\\xa0',\n",
       " 'ARMY',\n",
       " 'ARMY\\xa0',\n",
       " 'Air Force',\n",
       " 'Army',\n",
       " 'DEFENSE ADVANCED RESEARCH PROJECTS AGENCY',\n",
       " 'DEFENSE COMMISSARY AGENCY',\n",
       " 'DEFENSE COUNTERINTELLIGENCE AND SECURITY AGENCY',\n",
       " 'DEFENSE COUNTERINTELLIGENCE SECURITY AGENCY',\n",
       " 'DEFENSE FINANCE AND ACCOUNTING SERVICE',\n",
       " 'DEFENSE HEALTH AGENCY',\n",
       " 'DEFENSE HUMAN RESOURCES ACTIVITY',\n",
       " 'DEFENSE INFORMATION SYSTEMS AGENCY',\n",
       " 'DEFENSE INTELLIGENCE AGENCY',\n",
       " 'DEFENSE LOGISTICS AGENCY',\n",
       " 'DEFENSE LOGISTICS AGENCY\\xa0',\n",
       " 'DEFENSE THREAT REDUCTION AGENCY',\n",
       " 'DEPARTMENT OF DEFENSE EDUCATION ACTIVITY',\n",
       " 'Defense Health Agency',\n",
       " 'Defense Logistics Agency',\n",
       " 'MISSILE DEFENSE AGENCY',\n",
       " 'MISSLE DEFENSE AGENCY',\n",
       " 'NAVY',\n",
       " 'Navy',\n",
       " 'SPACE DEVELOPMENT AGENCY',\n",
       " 'SPECIAL OPERATIONS COMMAND',\n",
       " 'U.S. SPECIAL OPERATIONS COMMAND',\n",
       " 'U.S. Special Operations Command',\n",
       " 'U.S. TRANSPORTATION COMMAND',\n",
       " 'UNIFORMED SERVICES UNIVERSITY OF THE HEALTH SCIENCES',\n",
       " 'WASHINGTON HEADQUARTERS AGENCY',\n",
       " 'WASHINGTON HEADQUARTERS SERVICE',\n",
       " 'WASHINGTON HEADQUARTERS SERVICES'}"
      ]
     },
     "execution_count": 20,
     "metadata": {},
     "output_type": "execute_result"
    }
   ],
   "source": [
    "set(df.iloc[:,2])"
   ]
  },
  {
   "cell_type": "code",
   "execution_count": 21,
   "metadata": {
    "colab": {
     "base_uri": "https://localhost:8080/"
    },
    "id": "Wkc5ZWKZv0-r",
    "outputId": "de2e367e-8b2c-4678-98b6-859c34101138",
    "scrolled": true,
    "tags": []
   },
   "outputs": [
    {
     "data": {
      "text/plain": [
       "{'April 1, 2022',\n",
       " 'April 11, 2022',\n",
       " 'April 12, 2022',\n",
       " 'April 13, 2022',\n",
       " 'April 14, 2022',\n",
       " 'April 15, 2022',\n",
       " 'April 18, 2022',\n",
       " 'April 19, 2022',\n",
       " 'April 20, 2022',\n",
       " 'April 21, 2022',\n",
       " 'April 22, 2022',\n",
       " 'April 25, 2022',\n",
       " 'April 26, 2022',\n",
       " 'April 27, 2022',\n",
       " 'April 28, 2022',\n",
       " 'April 29, 2022',\n",
       " 'April 4, 2022',\n",
       " 'April 5, 2022',\n",
       " 'April 6, 2022',\n",
       " 'April 7, 2022',\n",
       " 'April 8, 2022',\n",
       " 'Aug. 1, 2022',\n",
       " 'Aug. 10, 2022',\n",
       " 'Aug. 11, 2022',\n",
       " 'Aug. 12, 2022',\n",
       " 'Aug. 15, 2022',\n",
       " 'Aug. 16, 2022',\n",
       " 'Aug. 17, 2022',\n",
       " 'Aug. 18, 2022',\n",
       " 'Aug. 19, 2022',\n",
       " 'Aug. 2, 2022',\n",
       " 'Aug. 22, 2022',\n",
       " 'Aug. 23, 2022',\n",
       " 'Aug. 24, 2022',\n",
       " 'Aug. 25, 2022',\n",
       " 'Aug. 26, 2022',\n",
       " 'Aug. 29, 2022',\n",
       " 'Aug. 3, 2022',\n",
       " 'Aug. 30, 2022',\n",
       " 'Aug. 31, 2022',\n",
       " 'Aug. 4, 2022',\n",
       " 'Aug. 5, 2022',\n",
       " 'Aug. 8, 2022',\n",
       " 'Aug. 9, 2022',\n",
       " 'Dec. 1, 2021',\n",
       " 'Dec. 10, 2021',\n",
       " 'Dec. 13, 2021',\n",
       " 'Dec. 14, 2021',\n",
       " 'Dec. 15, 2021',\n",
       " 'Dec. 16, 2021',\n",
       " 'Dec. 17, 2021',\n",
       " 'Dec. 2, 2021',\n",
       " 'Dec. 20, 2021',\n",
       " 'Dec. 21, 2021',\n",
       " 'Dec. 22, 2021',\n",
       " 'Dec. 23, 2021',\n",
       " 'Dec. 27, 2021',\n",
       " 'Dec. 28, 2021',\n",
       " 'Dec. 29, 2021',\n",
       " 'Dec. 3, 2021',\n",
       " 'Dec. 30, 2021',\n",
       " 'Dec. 6, 2021',\n",
       " 'Dec. 7, 2021',\n",
       " 'Dec. 8, 2021',\n",
       " 'Dec. 9, 2021',\n",
       " 'Feb. 1, 2022',\n",
       " 'Feb. 10, 2022',\n",
       " 'Feb. 11, 2022',\n",
       " 'Feb. 14, 2022',\n",
       " 'Feb. 15, 2022',\n",
       " 'Feb. 16, 2022',\n",
       " 'Feb. 17, 2022',\n",
       " 'Feb. 18, 2022',\n",
       " 'Feb. 2, 2022',\n",
       " 'Feb. 22, 2022',\n",
       " 'Feb. 23, 2022',\n",
       " 'Feb. 24, 2022',\n",
       " 'Feb. 25, 2022',\n",
       " 'Feb. 28, 2022',\n",
       " 'Feb. 3, 2022',\n",
       " 'Feb. 4, 2022',\n",
       " 'Feb. 7, 2022',\n",
       " 'Feb. 8, 2022',\n",
       " 'Feb. 9, 2022',\n",
       " 'Jan. 10, 2022',\n",
       " 'Jan. 11, 2022',\n",
       " 'Jan. 12, 2022',\n",
       " 'Jan. 13, 2022',\n",
       " 'Jan. 14, 2022',\n",
       " 'Jan. 18, 2022',\n",
       " 'Jan. 19, 2022',\n",
       " 'Jan. 20, 2022',\n",
       " 'Jan. 21, 2022',\n",
       " 'Jan. 24, 2022',\n",
       " 'Jan. 25, 2022',\n",
       " 'Jan. 26, 2022',\n",
       " 'Jan. 27, 2022',\n",
       " 'Jan. 28, 2022',\n",
       " 'Jan. 3, 2022',\n",
       " 'Jan. 31, 2022',\n",
       " 'Jan. 4, 2022',\n",
       " 'Jan. 5, 2022',\n",
       " 'Jan. 6, 2022',\n",
       " 'Jan. 7, 2022',\n",
       " 'July 1, 2022',\n",
       " 'July 11, 2022',\n",
       " 'July 12, 2022',\n",
       " 'July 13, 2022',\n",
       " 'July 14, 2022',\n",
       " 'July 15, 2022',\n",
       " 'July 18, 2022',\n",
       " 'July 19, 2022',\n",
       " 'July 20, 2022',\n",
       " 'July 21, 2022',\n",
       " 'July 22, 2022',\n",
       " 'July 25, 2022',\n",
       " 'July 26, 2022',\n",
       " 'July 27, 2022',\n",
       " 'July 28, 2022',\n",
       " 'July 29, 2022',\n",
       " 'July 5, 2022',\n",
       " 'July 6, 2022',\n",
       " 'July 7, 2022',\n",
       " 'July 8, 2022',\n",
       " 'June 1, 2022',\n",
       " 'June 10, 2022',\n",
       " 'June 13, 2022',\n",
       " 'June 14, 2022',\n",
       " 'June 15, 2022',\n",
       " 'June 16, 2022',\n",
       " 'June 17, 2022',\n",
       " 'June 2, 2022',\n",
       " 'June 21, 2022',\n",
       " 'June 22, 2022',\n",
       " 'June 23, 2022',\n",
       " 'June 24, 2022',\n",
       " 'June 27, 2022',\n",
       " 'June 28, 2022',\n",
       " 'June 29, 2022',\n",
       " 'June 3, 2022',\n",
       " 'June 30, 2022',\n",
       " 'June 6, 2022',\n",
       " 'June 7, 2022',\n",
       " 'June 8, 2022',\n",
       " 'June 9, 2022',\n",
       " 'March 1, 2022',\n",
       " 'March 10, 2022',\n",
       " 'March 11, 2022',\n",
       " 'March 14, 2022',\n",
       " 'March 15, 2022',\n",
       " 'March 16, 2022',\n",
       " 'March 17, 2022',\n",
       " 'March 18, 2022',\n",
       " 'March 2, 2022',\n",
       " 'March 21, 2022',\n",
       " 'March 22, 2022',\n",
       " 'March 23, 2022',\n",
       " 'March 24, 2022',\n",
       " 'March 25, 2022',\n",
       " 'March 28, 2022',\n",
       " 'March 29, 2022',\n",
       " 'March 3, 2022',\n",
       " 'March 30, 2022',\n",
       " 'March 31, 2022',\n",
       " 'March 4, 2022',\n",
       " 'March 7, 2022',\n",
       " 'March 8, 2022',\n",
       " 'March 9, 2022',\n",
       " 'May 10, 2022',\n",
       " 'May 11, 2022',\n",
       " 'May 12, 2022',\n",
       " 'May 13, 2022',\n",
       " 'May 16, 2022',\n",
       " 'May 17, 2022',\n",
       " 'May 18, 2022',\n",
       " 'May 19, 2022',\n",
       " 'May 2, 2022',\n",
       " 'May 20, 2022',\n",
       " 'May 23, 2022',\n",
       " 'May 24, 2022',\n",
       " 'May 25, 2022',\n",
       " 'May 26, 2022',\n",
       " 'May 27, 2022',\n",
       " 'May 3, 2022',\n",
       " 'May 31, 2022',\n",
       " 'May 4, 2022',\n",
       " 'May 5, 2022',\n",
       " 'May 6, 2022',\n",
       " 'May 9, 2022',\n",
       " 'Nov. 1, 2021',\n",
       " 'Nov. 1, 2022',\n",
       " 'Nov. 10, 2021',\n",
       " 'Nov. 10, 2022',\n",
       " 'Nov. 12, 2021',\n",
       " 'Nov. 14, 2022',\n",
       " 'Nov. 15, 2021',\n",
       " 'Nov. 15, 2022',\n",
       " 'Nov. 16, 2021',\n",
       " 'Nov. 16, 2022',\n",
       " 'Nov. 17, 2021',\n",
       " 'Nov. 17, 2022',\n",
       " 'Nov. 18, 2021',\n",
       " 'Nov. 18, 2022',\n",
       " 'Nov. 19, 2021',\n",
       " 'Nov. 2, 2021',\n",
       " 'Nov. 2, 2022',\n",
       " 'Nov. 21, 2022',\n",
       " 'Nov. 22, 2021',\n",
       " 'Nov. 22, 2022',\n",
       " 'Nov. 23, 2021',\n",
       " 'Nov. 24, 2021',\n",
       " 'Nov. 26, 2021',\n",
       " 'Nov. 29, 2021',\n",
       " 'Nov. 3, 2021',\n",
       " 'Nov. 3, 2022',\n",
       " 'Nov. 30, 2021',\n",
       " 'Nov. 4, 2021',\n",
       " 'Nov. 4, 2022',\n",
       " 'Nov. 5, 2021',\n",
       " 'Nov. 7, 2022',\n",
       " 'Nov. 8, 2021',\n",
       " 'Nov. 8, 2022',\n",
       " 'Nov. 9, 2021',\n",
       " 'Nov. 9, 2022',\n",
       " 'Oct. 1, 2021',\n",
       " 'Oct. 11, 2022',\n",
       " 'Oct. 12, 2021',\n",
       " 'Oct. 12, 2022',\n",
       " 'Oct. 13, 2021',\n",
       " 'Oct. 13, 2022',\n",
       " 'Oct. 14, 2021',\n",
       " 'Oct. 14, 2022',\n",
       " 'Oct. 15, 2021',\n",
       " 'Oct. 17, 2022',\n",
       " 'Oct. 18, 2021',\n",
       " 'Oct. 18, 2022',\n",
       " 'Oct. 19, 2021',\n",
       " 'Oct. 19, 2022',\n",
       " 'Oct. 20, 2021',\n",
       " 'Oct. 20, 2022',\n",
       " 'Oct. 21, 2021',\n",
       " 'Oct. 21, 2022',\n",
       " 'Oct. 22, 2021',\n",
       " 'Oct. 24, 2022',\n",
       " 'Oct. 25, 2021',\n",
       " 'Oct. 25, 2022',\n",
       " 'Oct. 26, 2021',\n",
       " 'Oct. 26, 2022',\n",
       " 'Oct. 27, 2021',\n",
       " 'Oct. 27, 2022',\n",
       " 'Oct. 28, 2021',\n",
       " 'Oct. 28, 2022',\n",
       " 'Oct. 29, 2021',\n",
       " 'Oct. 3, 2022',\n",
       " 'Oct. 31, 2022',\n",
       " 'Oct. 4, 2021',\n",
       " 'Oct. 4, 2022',\n",
       " 'Oct. 5, 2021',\n",
       " 'Oct. 5, 2022',\n",
       " 'Oct. 6, 2021',\n",
       " 'Oct. 6, 2022',\n",
       " 'Oct. 7, 2021',\n",
       " 'Oct. 7, 2022',\n",
       " 'Oct. 8, 2021',\n",
       " 'Sept. 1, 2022',\n",
       " 'Sept. 10, 2021',\n",
       " 'Sept. 12, 2022',\n",
       " 'Sept. 13, 2021',\n",
       " 'Sept. 13, 2022',\n",
       " 'Sept. 14, 2021',\n",
       " 'Sept. 14, 2022',\n",
       " 'Sept. 15, 2021',\n",
       " 'Sept. 15, 2022',\n",
       " 'Sept. 16, 2021',\n",
       " 'Sept. 16, 2022',\n",
       " 'Sept. 17, 2021',\n",
       " 'Sept. 19, 2022',\n",
       " 'Sept. 2, 2022',\n",
       " 'Sept. 20, 2021',\n",
       " 'Sept. 20, 2022',\n",
       " 'Sept. 21, 2021',\n",
       " 'Sept. 21, 2022',\n",
       " 'Sept. 22, 2021',\n",
       " 'Sept. 22, 2022',\n",
       " 'Sept. 23, 2021',\n",
       " 'Sept. 23, 2022',\n",
       " 'Sept. 24, 2021',\n",
       " 'Sept. 26, 2022',\n",
       " 'Sept. 27, 2021',\n",
       " 'Sept. 27, 2022',\n",
       " 'Sept. 28, 2021',\n",
       " 'Sept. 28, 2022',\n",
       " 'Sept. 29, 2021',\n",
       " 'Sept. 29, 2022',\n",
       " 'Sept. 30, 2021',\n",
       " 'Sept. 30, 2022',\n",
       " 'Sept. 6, 2022',\n",
       " 'Sept. 7, 2022',\n",
       " 'Sept. 8, 2022',\n",
       " 'Sept. 9, 2022'}"
      ]
     },
     "execution_count": 21,
     "metadata": {},
     "output_type": "execute_result"
    }
   ],
   "source": [
    "set(df.iloc[:,3])"
   ]
  },
  {
   "cell_type": "markdown",
   "metadata": {
    "id": "qYVMX3P433Kp"
   },
   "source": [
    "## Saving the content as both JSON and csv format"
   ]
  },
  {
   "cell_type": "code",
   "execution_count": 24,
   "metadata": {},
   "outputs": [],
   "source": [
    "import json \n",
    "      \n",
    "# Data to be written \n",
    "dictionary ={\"content\":ls_main_content,\n",
    "             \"date\":\"11/22/22\"\n",
    "} \n",
    "      \n",
    "# Serializing json  \n",
    "with open(\"./data/data_main.json\", \"w\") as outfile:\n",
    "    json.dump(dictionary, outfile)"
   ]
  },
  {
   "cell_type": "code",
   "execution_count": 27,
   "metadata": {},
   "outputs": [],
   "source": [
    "df.to_csv(\"./data/data_url.csv\",index=False)"
   ]
  }
 ],
 "metadata": {
  "colab": {
   "collapsed_sections": [],
   "include_colab_link": true,
   "provenance": []
  },
  "kernelspec": {
   "display_name": "Python 3 (ipykernel)",
   "language": "python",
   "name": "python3"
  },
  "language_info": {
   "codemirror_mode": {
    "name": "ipython",
    "version": 3
   },
   "file_extension": ".py",
   "mimetype": "text/x-python",
   "name": "python",
   "nbconvert_exporter": "python",
   "pygments_lexer": "ipython3",
   "version": "3.9.15"
  }
 },
 "nbformat": 4,
 "nbformat_minor": 4
}
